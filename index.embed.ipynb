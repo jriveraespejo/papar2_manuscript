{
 "cells": [
  {
   "cell_type": "markdown",
   "metadata": {},
   "source": [
    "# Let’s talk about Thurstone & Co.: An information-theoretical model for\n",
    "\n",
    "comparative judgments, and its statistical translation\n",
    "\n",
    "[Jose Manuel Rivera Espejo](https://www.uantwerpen.be/en/staff/jose-manuel-rivera-espejo_23166/) [![](data:image/png;base64,iVBORw0KGgoAAAANSUhEUgAAABAAAAAQCAYAAAAf8/9hAAAAGXRFWHRTb2Z0d2FyZQBBZG9iZSBJbWFnZVJlYWR5ccllPAAAA2ZpVFh0WE1MOmNvbS5hZG9iZS54bXAAAAAAADw/eHBhY2tldCBiZWdpbj0i77u/IiBpZD0iVzVNME1wQ2VoaUh6cmVTek5UY3prYzlkIj8+IDx4OnhtcG1ldGEgeG1sbnM6eD0iYWRvYmU6bnM6bWV0YS8iIHg6eG1wdGs9IkFkb2JlIFhNUCBDb3JlIDUuMC1jMDYwIDYxLjEzNDc3NywgMjAxMC8wMi8xMi0xNzozMjowMCAgICAgICAgIj4gPHJkZjpSREYgeG1sbnM6cmRmPSJodHRwOi8vd3d3LnczLm9yZy8xOTk5LzAyLzIyLXJkZi1zeW50YXgtbnMjIj4gPHJkZjpEZXNjcmlwdGlvbiByZGY6YWJvdXQ9IiIgeG1sbnM6eG1wTU09Imh0dHA6Ly9ucy5hZG9iZS5jb20veGFwLzEuMC9tbS8iIHhtbG5zOnN0UmVmPSJodHRwOi8vbnMuYWRvYmUuY29tL3hhcC8xLjAvc1R5cGUvUmVzb3VyY2VSZWYjIiB4bWxuczp4bXA9Imh0dHA6Ly9ucy5hZG9iZS5jb20veGFwLzEuMC8iIHhtcE1NOk9yaWdpbmFsRG9jdW1lbnRJRD0ieG1wLmRpZDo1N0NEMjA4MDI1MjA2ODExOTk0QzkzNTEzRjZEQTg1NyIgeG1wTU06RG9jdW1lbnRJRD0ieG1wLmRpZDozM0NDOEJGNEZGNTcxMUUxODdBOEVCODg2RjdCQ0QwOSIgeG1wTU06SW5zdGFuY2VJRD0ieG1wLmlpZDozM0NDOEJGM0ZGNTcxMUUxODdBOEVCODg2RjdCQ0QwOSIgeG1wOkNyZWF0b3JUb29sPSJBZG9iZSBQaG90b3Nob3AgQ1M1IE1hY2ludG9zaCI+IDx4bXBNTTpEZXJpdmVkRnJvbSBzdFJlZjppbnN0YW5jZUlEPSJ4bXAuaWlkOkZDN0YxMTc0MDcyMDY4MTE5NUZFRDc5MUM2MUUwNEREIiBzdFJlZjpkb2N1bWVudElEPSJ4bXAuZGlkOjU3Q0QyMDgwMjUyMDY4MTE5OTRDOTM1MTNGNkRBODU3Ii8+IDwvcmRmOkRlc2NyaXB0aW9uPiA8L3JkZjpSREY+IDwveDp4bXBtZXRhPiA8P3hwYWNrZXQgZW5kPSJyIj8+84NovQAAAR1JREFUeNpiZEADy85ZJgCpeCB2QJM6AMQLo4yOL0AWZETSqACk1gOxAQN+cAGIA4EGPQBxmJA0nwdpjjQ8xqArmczw5tMHXAaALDgP1QMxAGqzAAPxQACqh4ER6uf5MBlkm0X4EGayMfMw/Pr7Bd2gRBZogMFBrv01hisv5jLsv9nLAPIOMnjy8RDDyYctyAbFM2EJbRQw+aAWw/LzVgx7b+cwCHKqMhjJFCBLOzAR6+lXX84xnHjYyqAo5IUizkRCwIENQQckGSDGY4TVgAPEaraQr2a4/24bSuoExcJCfAEJihXkWDj3ZAKy9EJGaEo8T0QSxkjSwORsCAuDQCD+QILmD1A9kECEZgxDaEZhICIzGcIyEyOl2RkgwAAhkmC+eAm0TAAAAABJRU5ErkJggg==)](https://orcid.org/0000-0002-3088-2783) (University of Antwerp)  \n",
    "[Tine van Daal](https://www.uantwerpen.be/en/staff/tine-vandaal/) [![](data:image/png;base64,iVBORw0KGgoAAAANSUhEUgAAABAAAAAQCAYAAAAf8/9hAAAAGXRFWHRTb2Z0d2FyZQBBZG9iZSBJbWFnZVJlYWR5ccllPAAAA2ZpVFh0WE1MOmNvbS5hZG9iZS54bXAAAAAAADw/eHBhY2tldCBiZWdpbj0i77u/IiBpZD0iVzVNME1wQ2VoaUh6cmVTek5UY3prYzlkIj8+IDx4OnhtcG1ldGEgeG1sbnM6eD0iYWRvYmU6bnM6bWV0YS8iIHg6eG1wdGs9IkFkb2JlIFhNUCBDb3JlIDUuMC1jMDYwIDYxLjEzNDc3NywgMjAxMC8wMi8xMi0xNzozMjowMCAgICAgICAgIj4gPHJkZjpSREYgeG1sbnM6cmRmPSJodHRwOi8vd3d3LnczLm9yZy8xOTk5LzAyLzIyLXJkZi1zeW50YXgtbnMjIj4gPHJkZjpEZXNjcmlwdGlvbiByZGY6YWJvdXQ9IiIgeG1sbnM6eG1wTU09Imh0dHA6Ly9ucy5hZG9iZS5jb20veGFwLzEuMC9tbS8iIHhtbG5zOnN0UmVmPSJodHRwOi8vbnMuYWRvYmUuY29tL3hhcC8xLjAvc1R5cGUvUmVzb3VyY2VSZWYjIiB4bWxuczp4bXA9Imh0dHA6Ly9ucy5hZG9iZS5jb20veGFwLzEuMC8iIHhtcE1NOk9yaWdpbmFsRG9jdW1lbnRJRD0ieG1wLmRpZDo1N0NEMjA4MDI1MjA2ODExOTk0QzkzNTEzRjZEQTg1NyIgeG1wTU06RG9jdW1lbnRJRD0ieG1wLmRpZDozM0NDOEJGNEZGNTcxMUUxODdBOEVCODg2RjdCQ0QwOSIgeG1wTU06SW5zdGFuY2VJRD0ieG1wLmlpZDozM0NDOEJGM0ZGNTcxMUUxODdBOEVCODg2RjdCQ0QwOSIgeG1wOkNyZWF0b3JUb29sPSJBZG9iZSBQaG90b3Nob3AgQ1M1IE1hY2ludG9zaCI+IDx4bXBNTTpEZXJpdmVkRnJvbSBzdFJlZjppbnN0YW5jZUlEPSJ4bXAuaWlkOkZDN0YxMTc0MDcyMDY4MTE5NUZFRDc5MUM2MUUwNEREIiBzdFJlZjpkb2N1bWVudElEPSJ4bXAuZGlkOjU3Q0QyMDgwMjUyMDY4MTE5OTRDOTM1MTNGNkRBODU3Ii8+IDwvcmRmOkRlc2NyaXB0aW9uPiA8L3JkZjpSREY+IDwveDp4bXBtZXRhPiA8P3hwYWNrZXQgZW5kPSJyIj8+84NovQAAAR1JREFUeNpiZEADy85ZJgCpeCB2QJM6AMQLo4yOL0AWZETSqACk1gOxAQN+cAGIA4EGPQBxmJA0nwdpjjQ8xqArmczw5tMHXAaALDgP1QMxAGqzAAPxQACqh4ER6uf5MBlkm0X4EGayMfMw/Pr7Bd2gRBZogMFBrv01hisv5jLsv9nLAPIOMnjy8RDDyYctyAbFM2EJbRQw+aAWw/LzVgx7b+cwCHKqMhjJFCBLOzAR6+lXX84xnHjYyqAo5IUizkRCwIENQQckGSDGY4TVgAPEaraQr2a4/24bSuoExcJCfAEJihXkWDj3ZAKy9EJGaEo8T0QSxkjSwORsCAuDQCD+QILmD1A9kECEZgxDaEZhICIzGcIyEyOl2RkgwAAhkmC+eAm0TAAAAABJRU5ErkJggg==)](https://orcid.org/https://orcid.org/0000-0001-9398-9775) (University of Antwerp)  \n",
    "[Sven De Maeyer](https://www.uantwerpen.be/en/staff/sven-demaeyer/) [![](data:image/png;base64,iVBORw0KGgoAAAANSUhEUgAAABAAAAAQCAYAAAAf8/9hAAAAGXRFWHRTb2Z0d2FyZQBBZG9iZSBJbWFnZVJlYWR5ccllPAAAA2ZpVFh0WE1MOmNvbS5hZG9iZS54bXAAAAAAADw/eHBhY2tldCBiZWdpbj0i77u/IiBpZD0iVzVNME1wQ2VoaUh6cmVTek5UY3prYzlkIj8+IDx4OnhtcG1ldGEgeG1sbnM6eD0iYWRvYmU6bnM6bWV0YS8iIHg6eG1wdGs9IkFkb2JlIFhNUCBDb3JlIDUuMC1jMDYwIDYxLjEzNDc3NywgMjAxMC8wMi8xMi0xNzozMjowMCAgICAgICAgIj4gPHJkZjpSREYgeG1sbnM6cmRmPSJodHRwOi8vd3d3LnczLm9yZy8xOTk5LzAyLzIyLXJkZi1zeW50YXgtbnMjIj4gPHJkZjpEZXNjcmlwdGlvbiByZGY6YWJvdXQ9IiIgeG1sbnM6eG1wTU09Imh0dHA6Ly9ucy5hZG9iZS5jb20veGFwLzEuMC9tbS8iIHhtbG5zOnN0UmVmPSJodHRwOi8vbnMuYWRvYmUuY29tL3hhcC8xLjAvc1R5cGUvUmVzb3VyY2VSZWYjIiB4bWxuczp4bXA9Imh0dHA6Ly9ucy5hZG9iZS5jb20veGFwLzEuMC8iIHhtcE1NOk9yaWdpbmFsRG9jdW1lbnRJRD0ieG1wLmRpZDo1N0NEMjA4MDI1MjA2ODExOTk0QzkzNTEzRjZEQTg1NyIgeG1wTU06RG9jdW1lbnRJRD0ieG1wLmRpZDozM0NDOEJGNEZGNTcxMUUxODdBOEVCODg2RjdCQ0QwOSIgeG1wTU06SW5zdGFuY2VJRD0ieG1wLmlpZDozM0NDOEJGM0ZGNTcxMUUxODdBOEVCODg2RjdCQ0QwOSIgeG1wOkNyZWF0b3JUb29sPSJBZG9iZSBQaG90b3Nob3AgQ1M1IE1hY2ludG9zaCI+IDx4bXBNTTpEZXJpdmVkRnJvbSBzdFJlZjppbnN0YW5jZUlEPSJ4bXAuaWlkOkZDN0YxMTc0MDcyMDY4MTE5NUZFRDc5MUM2MUUwNEREIiBzdFJlZjpkb2N1bWVudElEPSJ4bXAuZGlkOjU3Q0QyMDgwMjUyMDY4MTE5OTRDOTM1MTNGNkRBODU3Ii8+IDwvcmRmOkRlc2NyaXB0aW9uPiA8L3JkZjpSREY+IDwveDp4bXBtZXRhPiA8P3hwYWNrZXQgZW5kPSJyIj8+84NovQAAAR1JREFUeNpiZEADy85ZJgCpeCB2QJM6AMQLo4yOL0AWZETSqACk1gOxAQN+cAGIA4EGPQBxmJA0nwdpjjQ8xqArmczw5tMHXAaALDgP1QMxAGqzAAPxQACqh4ER6uf5MBlkm0X4EGayMfMw/Pr7Bd2gRBZogMFBrv01hisv5jLsv9nLAPIOMnjy8RDDyYctyAbFM2EJbRQw+aAWw/LzVgx7b+cwCHKqMhjJFCBLOzAR6+lXX84xnHjYyqAo5IUizkRCwIENQQckGSDGY4TVgAPEaraQr2a4/24bSuoExcJCfAEJihXkWDj3ZAKy9EJGaEo8T0QSxkjSwORsCAuDQCD+QILmD1A9kECEZgxDaEZhICIzGcIyEyOl2RkgwAAhkmC+eAm0TAAAAABJRU5ErkJggg==)](https://orcid.org/0000-0003-2888-1631) (University of Antwerp)  \n",
    "[Steven Gillis](https://www.uantwerpen.be/nl/personeel/steven-gillis/) (University of Antwerp)  \n",
    "November 5, 2024\n",
    "\n",
    "(to do)"
   ],
   "id": "18f19256-7fd0-4a01-8f46-d60915eaee69"
  },
  {
   "cell_type": "code",
   "execution_count": null,
   "metadata": {},
   "outputs": [],
   "source": [
    "# # load packages\n",
    "# libraries = c('RColorBrewer','stringr','dplyr','tidyverse',\n",
    "#               'rechape2','knitr','kableExtra',\n",
    "#               'rstan','StanHeaders','runjags','rethinking')\n",
    "# sapply(libraries, require, character.only=T)"
   ],
   "id": "3d2bdd1a-4d6d-412c-ac0b-b8d288822cf5"
  },
  {
   "cell_type": "code",
   "execution_count": null,
   "metadata": {},
   "outputs": [],
   "source": [
    "# # load functions\n",
    "# main_dir = '/home/josema/Desktop/1. Work/1 research/PhD Antwerp/#thesis/paper2/paper2_manuscript'\n",
    "# source( file.path( main_dir, 'code', 'user-defined-functions.R') )"
   ],
   "id": "0fd65d3c-c320-44b7-9016-6a31962bb310"
  },
  {
   "cell_type": "markdown",
   "metadata": {},
   "source": [
    "# Introduction"
   ],
   "id": "d463efb7-18ee-48c5-b176-8c0350951042"
  },
  {
   "cell_type": "raw",
   "metadata": {
    "raw_mimetype": "text/html"
   },
   "source": [
    "<!-- recording 1 -->"
   ],
   "id": "629577c2-94cf-4c40-91b3-27703f15a8c3"
  },
  {
   "cell_type": "raw",
   "metadata": {
    "raw_mimetype": "text/html"
   },
   "source": [
    "<!-- Part 1; 00:00:00 - 00:09:10 -->"
   ],
   "id": "53b1f8e9-93fe-4c5a-8e68-1304da0de9eb"
  },
  {
   "cell_type": "raw",
   "metadata": {
    "raw_mimetype": "text/html"
   },
   "source": [
    "<!-- recording 2 -->"
   ],
   "id": "05a8c19a-9f60-468a-9319-94c8bbb815cc"
  },
  {
   "cell_type": "raw",
   "metadata": {
    "raw_mimetype": "text/html"
   },
   "source": [
    "<!-- Part 2; 00:00:00 - 00:17:30 -->"
   ],
   "id": "186bf66d-430c-4cbe-b065-540c51d215b3"
  },
  {
   "cell_type": "raw",
   "metadata": {
    "raw_mimetype": "text/html"
   },
   "source": [
    "<!-- 1. What does CJ do? -->"
   ],
   "id": "d3119fdd-2aff-40a4-899c-663e8cef4641"
  },
  {
   "cell_type": "markdown",
   "metadata": {},
   "source": [
    "In *comparative judgment* (CJ) studies, judges assess the presence of a trait or competence by conducting pairwise comparisons of stimuli \\[@Thurstone_1927; @Pollitt_2004; @Pollitt_2012a\\]. The comparison produces a dichotomous outcome, indicating which stimulus is perceived to possess a higher trait level. After conducting multiple rounds of pairwise comparisons, researchers use the Bradley-Terry-Luce (BTL) model \\[@Bradley_et_al_1952; @Luce_1959\\] to process the outcomes and estimate scores that reflect the underlying trait of interest. This method has been successfully employed in assessing the quality of written texts, where quality describes the underlying trait of interest and the texts serve as the stimuli \\[@Laming_2004; @Pollitt_2012b; @Whitehouse_2012; @vanDaal_et_al_2016; @Lesterhuis_2018; @Coertjens_et_al_2017; @Goossens_et_al_2018; @Bouwer_et_al_2023\\]."
   ],
   "id": "c3d86081-a18d-4814-b1dd-940671f30113"
  },
  {
   "cell_type": "raw",
   "metadata": {
    "raw_mimetype": "text/html"
   },
   "source": [
    "<!-- Specifically, CJ has been used to evaluate the quality of written texts [@Laming_2004; @Pollitt_2012b; @Whitehouse_2012; @vanDaal_et_al_2016; @Lesterhuis_2018; @Coertjens_et_al_2017; @Goossens_et_al_2018; @Bouwer_et_al_2023] and to assess the quality of speech [@Boonen_et_al_2020]. Additionally, it has been applied to evaluate various competencies, including mathematical problem-solving skills [@Jones_2015], engineering design skills [@Bartholomew_et_al_2018], conceptual understanding in algebra [@Jones_et_al_2019], statistical and English knowdlege [@Marshall_et_al_2020], and STEM knowledge and skills [@Bartholomew_et_al_2020]. -->"
   ],
   "id": "b54d09ca-4387-4b0a-9499-67de475ceb28"
  },
  {
   "cell_type": "raw",
   "metadata": {
    "raw_mimetype": "text/html"
   },
   "source": [
    "<!-- 2. Where are we now with DCJ? -->"
   ],
   "id": "d3a5eeea-9d5a-421e-bfb6-ccc2507a0f20"
  },
  {
   "cell_type": "markdown",
   "metadata": {},
   "source": [
    "Numerous studies have documented the effectiveness of CJ in assessing various traits and competencies over the past decade. These studies have emphasized three aspects of the method’s effectiveness: its reliability, validity, and practical applicability. Research on reliability indicates that CJ requires a relatively small number of pairwise comparisons \\[@Verhavert_et_al_2019; @Crompvoets_et_al_2022\\] to produce trait scores that are as precise and consistent as those generated by other assessment methods \\[@Coertjens_et_al_2017; @Goossens_et_al_2018; @Bouwer_et_al_2023\\]. Furthermore, evidence suggests that the reliability and time efficiency of CJ are comparable, if not superior, to those of other assessment methods when employing adaptive comparison algorithms \\[@Pollitt_2012b; @Verhavert_et_al_2022; @Mikhailiuk_et_al_2021\\]. Additionally, research on validity suggests that scores generated by CJ can accurately represent the traits under measurement \\[@Whitehouse_2012; @vanDaal_et_al_2016; @Lesterhuis_2018; @Bartholomew_et_al_2018; @Bouwer_et_al_2023\\]. Finally, research on practical applicability highlights the method’s versatility across both educational and non-educational contexts \\[@Jones_2015; @Bartholomew_et_al_2018; @Jones_et_al_2019; @Marshall_et_al_2020; @Bartholomew_et_al_2020; @Boonen_et_al_2020\\]."
   ],
   "id": "93dd1008-9a07-4e7c-af7a-7f3b96c4461a"
  },
  {
   "cell_type": "raw",
   "metadata": {
    "raw_mimetype": "text/html"
   },
   "source": [
    "<!-- rubrics [@Coertjens_et_al_2017; @Goossens_et_al_2018]  -->"
   ],
   "id": "4f29a286-079f-4fda-9614-7dd14abafe65"
  },
  {
   "cell_type": "raw",
   "metadata": {
    "raw_mimetype": "text/html"
   },
   "source": [
    "<!-- holistic benchmark ratings [@Bouwer_et_al_2023] -->"
   ],
   "id": "0e8ff579-0153-4a85-b60f-d10dd432f27b"
  },
  {
   "cell_type": "raw",
   "metadata": {
    "raw_mimetype": "text/html"
   },
   "source": [
    "<!-- Adaptive comparison algorithms dynamically present stimuli to judges, based on the results of previous comparisons. They aim to enhance the informativeness of comparisons while optimizing judges' time [@Bramley_2015].  -->"
   ],
   "id": "237867f6-1041-4397-8e3e-cf7ea4080910"
  },
  {
   "cell_type": "raw",
   "metadata": {
    "raw_mimetype": "text/html"
   },
   "source": [
    "<!-- 3. But what are the problems of DCJ as a method? -->"
   ],
   "id": "d57e5e82-2896-446f-b1e1-d0b339ca588b"
  },
  {
   "cell_type": "markdown",
   "metadata": {},
   "source": [
    "Nevertheless, despite the growing number of CJ studies, the literature’s unsystematic and fragmented research approaches have left several critical issues unaddressed. This research primarily focuses on three: the apparent disconnect between CJ’s measurement and structural model, the over-reliance on the assumptions of Thurstone’s Case 5 \\[-@Thurstone_1927\\] in CJ’s measurement model, and the unclear role of comparison algorithms on the method’s reliability and validity. The following sections will discuss each of these issues in detail, followed by the introduction of a theoretical model and its statistical translation, which aims to address all three concerns simultaneously.\n",
    "\n",
    "# Three critical issues in CJ literature\n",
    "\n",
    "## The disconnect between structural and measurement models"
   ],
   "id": "69f83df7-5bb5-4cac-955f-ffc1eb6dfe3a"
  },
  {
   "cell_type": "raw",
   "metadata": {
    "raw_mimetype": "text/html"
   },
   "source": [
    "<!-- 1. The BTL model is CJ's measurement model -->"
   ],
   "id": "e7b8c1da-43a4-431f-82d7-fd9243059dcc"
  },
  {
   "cell_type": "markdown",
   "metadata": {},
   "source": [
    "In a typical CJ study, the BTL model serves as the measurement model for CJ \\[@Andrich_1978; @Bramley_2008\\]. A measurement model specifies how manifest variables contribute to the estimation of latent variables \\[@Everitt_et_al_2010\\]. For example, when evaluating text quality, the BTL model uses the dichotomous outcomes resulting from the pairwise comparisons (the manifest variables) to estimate scores that reflect the underlying quality level of the texts (the latent variable) \\[@Laming_2004; @Pollitt_2012b; @Whitehouse_2012; @vanDaal_et_al_2016; @Lesterhuis_2018; @Coertjens_et_al_2017; @Goossens_et_al_2018; @Bouwer_et_al_2023\\]."
   ],
   "id": "e4ea7477-24e0-4ba8-9c5d-a275579e9e7d"
  },
  {
   "cell_type": "raw",
   "metadata": {
    "raw_mimetype": "text/html"
   },
   "source": [
    "<!-- 2. But there is no structural model, only post estimation analyses -->"
   ],
   "id": "829fae02-10aa-4d90-9cd9-d63228970e49"
  },
  {
   "cell_type": "markdown",
   "metadata": {},
   "source": [
    "Researchers then typically use the estimated BTL scores, or their transformations, to conduct additional analyses or hypothesis testing. The scores have been used to identify ‘misfit’ judges and stimuli \\[@Pollitt_2012b; @vanDaal_et_al_2017; @Goossens_et_al_2018\\], detect biases in judges’ ratings \\[@Pollitt_et_al_2003; @Pollitt_2012b\\], calculate correlations with other assessment methods \\[@Goossens_et_al_2018; @Bouwer_et_al_2023\\], or test hypotheses related to the underlying trait of interest \\[@Bramley_et_al_2019; @Boonen_et_al_2020; @Bouwer_et_al_2023; @vanDaal_et_al_2017; @Jones_et_al_2019; @Gijsen_et_al_2021\\]."
   ],
   "id": "22502360-3b22-4a33-bf70-7a6305b0720d"
  },
  {
   "cell_type": "raw",
   "metadata": {
    "raw_mimetype": "text/html"
   },
   "source": [
    "<!-- 3. But what is the problem with this? -->"
   ],
   "id": "f42f6898-0dc3-44e2-9333-f8440367cdf7"
  },
  {
   "cell_type": "markdown",
   "metadata": {},
   "source": [
    "However, the statistical literature cautions against using estimated scores to conduct additional analyses or tests. A key consideration is that BTL scores are parameter estimates that inherently carry uncertainty. Ignoring this uncertainty when conducting separate analyses and tests can inflate their precision and statistical power, increasing the risk of committing a type I error \\[@McElreath_2020\\]. A type I error results when a null hypothesis is incorrectly rejected \\[@Everitt_et_al_2010\\]."
   ],
   "id": "9484cf6b-f660-412c-8a56-a733f69c497a"
  },
  {
   "cell_type": "raw",
   "metadata": {
    "raw_mimetype": "text/html"
   },
   "source": [
    "<!-- 4. So, what is the solution?  -->"
   ],
   "id": "18542ecd-95de-4904-a804-6a20a79a6245"
  },
  {
   "cell_type": "markdown",
   "metadata": {},
   "source": [
    "To mitigate these risks, principles from Structural Equation Modeling (SEM) \\[@Hoyle_et_al_2023; @Kline_et_al_2023\\] and Item Response Theory (IRT) \\[@deAyala_2009; @Fox_2010; @vanderLinden_et_al_2017\\] recommend conducting these analyses and tests within a structural model. A structural model specify how different manifest or latent variables influence the latent variable of interest \\[@Everitt_et_al_2010\\]. This approach allows analyses that can account for both the scores and their uncertainties simultaneously, rather than treating them as separate elements. Therefore, an integrated approach that combines CJ’s structural and measurement models can offer significant advantages.\n",
    "\n",
    "## The assumptions of Case 5 and the measurement model"
   ],
   "id": "bb8f0f3c-9779-465b-94d5-829df2f7392b"
  },
  {
   "cell_type": "raw",
   "metadata": {
    "raw_mimetype": "text/html"
   },
   "source": [
    "<!-- []{style=\"color:red;\"}. -->"
   ],
   "id": "97754934-b389-4c66-aa68-68d3c61b1b0a"
  },
  {
   "cell_type": "raw",
   "metadata": {
    "raw_mimetype": "text/html"
   },
   "source": [
    "<!-- 1. What are the five cases of Thurstone? -->"
   ],
   "id": "9f3ce0c1-f803-4aee-84f8-b32f14866d28"
  },
  {
   "cell_type": "raw",
   "metadata": {
    "raw_mimetype": "text/html"
   },
   "source": [
    "<!-- 1. the BTL model is the statistical articulation of Case 5 -->"
   ],
   "id": "00c7a07e-d181-4d52-a4ab-fabd7cbdb738"
  },
  {
   "cell_type": "markdown",
   "metadata": {},
   "source": [
    "From early on in the literature, it has been clear that the BTL model represents a statistical articulation of Thurstone’s Case 5 \\[-@Thurstone_1927\\]. Talk about @Pollitt_et_al_2003 and @Bramley_2008.\n",
    "\n",
    "What case 5 implies, Assumptions. Not a normal distribution but a logistic distribution\n",
    "\n",
    "Table with assumptions"
   ],
   "id": "2010dded-df14-40dd-859a-24b0eda25cd6"
  },
  {
   "cell_type": "raw",
   "metadata": {
    "raw_mimetype": "text/html"
   },
   "source": [
    "<!-- 2. But this model hold the greater number of assumptions -->"
   ],
   "id": "cb8427a3-3a5a-4891-ac2b-67b8073b1f05"
  },
  {
   "cell_type": "raw",
   "metadata": {
    "raw_mimetype": "text/html"
   },
   "source": [
    "<!--   Although Case 5 was originally articulated to produce a \"rather coarse scaling\" of traits [@Thurstone_1927, p. 269], its assumptions have become predominant in the literature, but Thurstone's Case 5 is the case that holds the greater amount of simplifying assumptions. -->"
   ],
   "id": "382f013c-b480-4316-927e-57ecd8847587"
  },
  {
   "cell_type": "raw",
   "metadata": {
    "raw_mimetype": "text/html"
   },
   "source": [
    "<!--   @Thurstone_1927 justify the use of case V, on multiple assumptions, but the most important for our purpose are three: -->"
   ],
   "id": "c8ceac73-f78a-452f-bc6a-9c2bd411b89d"
  },
  {
   "cell_type": "raw",
   "metadata": {
    "raw_mimetype": "text/html"
   },
   "source": [
    "<!--   (a) related to Case 2 and case 3, it assumes the correlation between stimuli is zero, this translates into the cancellation of judges effects by mean of opposing and equally weighted 'mood' and 'simultaneous contrasts' effects. This is demonstrated using the additive nature of the logit scale, which helps to cancel 'bias' judges effects.  -->"
   ],
   "id": "9fbd7d60-9ee3-4d05-85cd-1a39f759e51d"
  },
  {
   "cell_type": "raw",
   "metadata": {
    "raw_mimetype": "text/html"
   },
   "source": [
    "<!--   Particularly on how CJ is used now, use the text example -->"
   ],
   "id": "cb4db64a-2987-4624-9282-466901c77ec2"
  },
  {
   "cell_type": "raw",
   "metadata": {
    "raw_mimetype": "text/html"
   },
   "source": [
    "<!--   What we are saying is that the judges' effects depend on the stimuli, by means of an interaction (but present) or because the judges works as a confounder. This, in the best scenario, cause less precise estimates, and in the worst scenario, biased estimates. possibility of bias is hinted in @Bramley_2008, and later mentioned again in @Kelly_et_al_2022, and some evidence is found in @Pollitt_et_al_2003, @vanDaal_et_al_2017 and @Gijsen_et_al_2021 -->"
   ],
   "id": "d118cda6-076a-4f2b-8ac5-25e44126e5d6"
  },
  {
   "cell_type": "raw",
   "metadata": {
    "raw_mimetype": "text/html"
   },
   "source": [
    "<!--   @Pollitt_et_al_2003 In Thurstone’s method each judge’s standard cancels out when a comparison is made, and any misfit between data and model must indicate a difference of some other kind. This is studied by analyzing the residuals that remain after the model is fitted to the data. Whenever one script is judged to have a higher value than a competing one it is expected to ‘win’ the comparison: if it does the residual will be small, but if it loses then the residual for that judge’s comparison of those two scripts will be large. Any patterns of large residuals will indicate some sort of bias – in this context bias simply means a source of systematic, rather than random, variability. indicates that one judge – Judge 5 – is significantly biased in some way. (Consider the problem of using adhoc methods) -->"
   ],
   "id": "9b1659e8-314b-4183-b68a-de044f740a3b"
  },
  {
   "cell_type": "raw",
   "metadata": {
    "raw_mimetype": "text/html"
   },
   "source": [
    "<!--   Moreover, a solution was already envisioned, @Andrich_1978 and @Wainer_et_al_1978 already showed that if judges effects are parametrized, it gets eliminated experimentally in the paired comparison method.  -->"
   ],
   "id": "f37aba63-68de-4c5f-a679-5b60653e9be6"
  },
  {
   "cell_type": "raw",
   "metadata": {
    "raw_mimetype": "text/html"
   },
   "source": [
    "<!--   use the example of writing!!! -->"
   ],
   "id": "dc8baafc-63db-445b-8849-ba1e4dc13a88"
  },
  {
   "cell_type": "raw",
   "metadata": {
    "raw_mimetype": "text/html"
   },
   "source": [
    "<!--   (b) related to Case 3, it assumes the correlation between stimuli is zero, this also translates into the idea that stimuli are the main focus of estimation and analysis, but what happens when the focus of analysis is the individuals that generated those stimuli. Meaning there is an amount of correlation that it is not accounted for.  -->"
   ],
   "id": "d6a14608-159f-4bfb-952f-a56a53081f59"
  },
  {
   "cell_type": "raw",
   "metadata": {
    "raw_mimetype": "text/html"
   },
   "source": [
    "<!--   Here we loose precision, because we are not controlling for clustering -->"
   ],
   "id": "87cad6db-95c3-4992-aa5c-76f489036934"
  },
  {
   "cell_type": "raw",
   "metadata": {
    "raw_mimetype": "text/html"
   },
   "source": [
    "<!-- This is the case of clustering or measurement error, and overlooking issues such as clustering and measurement error can lead to biased and less precise parameter estimates [@McElreath_2020], ultimately diminishing the statistical power of models and increasing the likelihood of committing type I or type II errors when addressing research inquiries. -->"
   ],
   "id": "0573c73f-f8df-4ecf-8db6-9303ba8e8a2c"
  },
  {
   "cell_type": "raw",
   "metadata": {
    "raw_mimetype": "text/html"
   },
   "source": [
    "<!-- This has been considered in the literature as a (see https://doi.org/10.1177/1471082X15571817) or a multilevel BTL model (find sources) -->"
   ],
   "id": "b245f812-fcf7-4471-a406-862580a335b6"
  },
  {
   "cell_type": "raw",
   "metadata": {
    "raw_mimetype": "text/html"
   },
   "source": [
    "<!--   (c) related to case 5, discriminal dispersions of the stimuli are equal, but it is not hard to imagine that certain individuals can produce good quality texts with more precision than other individuals. Example of exaggerated comparison of individuals, university students vs secondary school students. -->"
   ],
   "id": "ed9a0453-8630-42fb-b3d5-15d2b5791de7"
  },
  {
   "cell_type": "raw",
   "metadata": {
    "raw_mimetype": "text/html"
   },
   "source": [
    "<!--   here we face misspecification in the model -->"
   ],
   "id": "37f10a7b-75c9-4e11-b500-1ce7e910085c"
  },
  {
   "cell_type": "raw",
   "metadata": {
    "raw_mimetype": "text/html"
   },
   "source": [
    "<!-- If your scores are not reliable they cannot be valid. People have been employing a model with assumptions that they do not know if those assumptions apply for their cases. And when you do that, the scores you produce most likely will not be reliable, which, in turn, renders them invalid. -->"
   ],
   "id": "1b2616ee-a946-4508-a1f1-f42f3bda23c5"
  },
  {
   "cell_type": "raw",
   "metadata": {
    "raw_mimetype": "text/html"
   },
   "source": [
    "<!--   [Reliability is a necessary but not sufficient condition for validity. Reliability can exist without validity but validity cannot exist without reliability [@Perron_et_al_2015]]{style=\"color:red;\"}. -->"
   ],
   "id": "a3fb184b-634c-4b99-b43a-c6e519655612"
  },
  {
   "cell_type": "markdown",
   "metadata": {},
   "source": [
    "## The role and impact of comparison algorithms"
   ],
   "id": "113dac30-91fc-4dd8-8d40-a330221e5016"
  },
  {
   "cell_type": "raw",
   "metadata": {
    "raw_mimetype": "text/html"
   },
   "source": [
    "<!-- Experimental design -->"
   ],
   "id": "e9c45c34-15e8-4f8a-a1d3-f3b50fe9eb01"
  },
  {
   "cell_type": "raw",
   "metadata": {
    "raw_mimetype": "text/html"
   },
   "source": [
    "<!-- In this regard, although the literature has tested multiple features of the experimental design of the method, such as the comparison algorithm and the number of comparisons, it is not clear where this procedures fit in the whole process of comparison, and what are their implications for the outcome of the method. -->"
   ],
   "id": "5b1eb704-7f58-4056-acc4-4df87d2215b0"
  },
  {
   "cell_type": "raw",
   "metadata": {
    "raw_mimetype": "text/html"
   },
   "source": [
    "<!-- @Bramley_et_al_2019 and @Bramley_2015 says adaptivity inflates reliability. present the evidence of bias effects of adaptive algorithms, the not clear view of how many comparisons per (sub)units are required. Adhoc rules of thumb. -->"
   ],
   "id": "b3e75374-fbb4-46fa-8b7a-13d106eba84a"
  },
  {
   "cell_type": "raw",
   "metadata": {
    "raw_mimetype": "text/html"
   },
   "source": [
    "<!-- @Bramley_2015 -->"
   ],
   "id": "8b47f3fa-4c90-4f3b-8502-63ed6a491824"
  },
  {
   "cell_type": "raw",
   "metadata": {
    "raw_mimetype": "text/html"
   },
   "source": [
    "<!-- The implication is that the SSR statistic is worthless as an indicator of the quality / consistency / reliability of a scale constructed from an ACJ study that has involved a significant number of adaptive rounds. With random or fixed rounds, the SSR values were all below 0.25, which would generally be taken as an indicator of failure to create a meaningful scale. To put it another way, a low value of SSR almost certainly indicates low reliability, but a high value of SSR does not necessarily indicate high reliability.  -->"
   ],
   "id": "b67f3c44-275e-45d2-a08e-aa28de5cd17a"
  },
  {
   "cell_type": "raw",
   "metadata": {
    "raw_mimetype": "text/html"
   },
   "source": [
    "<!-- This is not to say that the ACJ studies listed in Table 1 (or indeed other studies not listed) were themselves worthless, just that not much should be made of claims about very high reliability in ACJ studies on the basis of high values of the SSR statistic. In fact, many of those studies also showed moderate to high correlations with variables external to the analysis, which were rightly interpreted as evidence of concurrent validity. -->"
   ],
   "id": "9c5e3c9d-27b7-4435-86c8-8b072cc90c6c"
  },
  {
   "cell_type": "raw",
   "metadata": {
    "raw_mimetype": "text/html"
   },
   "source": [
    "<!-- The conclusion is therefore that the SSR statistic is at best misleading and at worst worthless as an indicator of scale reliability whenever a CJ study has involved a significant amount of adaptivity. -->"
   ],
   "id": "d54fdfe9-fba4-4833-8695-ee6c09b221f9"
  },
  {
   "cell_type": "raw",
   "metadata": {
    "raw_mimetype": "text/html"
   },
   "source": [
    "<!-- @Gray_et_al_2024 entropy-driven active learning pair-selection algorithm to compare stimuli, vs random and no repeating pairs -->"
   ],
   "id": "4a5cf3d9-4ad9-4247-ae0f-b9a25a12feb5"
  },
  {
   "cell_type": "raw",
   "metadata": {
    "raw_mimetype": "text/html"
   },
   "source": [
    "<!-- @DeVrindt_et_al_2024 cold start problem to optimize time efficiency. -->"
   ],
   "id": "b5c47f8a-c90f-496c-8900-c27b125c3a5e"
  },
  {
   "cell_type": "raw",
   "metadata": {
    "raw_mimetype": "text/html"
   },
   "source": [
    "<!-- @Mikhailiuk_et_al_2021 proposed a fully Bayesian active sampling strategy for pairwise comparisons via Approximate Message Passing and Information Gain Maximization. ASAP computes the full posterior distribution, which is crucial to achieving accurate EIG estimates, and thus the accuracy of active sampling. We recommend ASAP, as it offered the highest accuracy of inferred scores compared to existing methods in experiments with real and synthetic data. -->"
   ],
   "id": "cff982b5-f43f-464d-9da5-df249dd9e9c0"
  },
  {
   "cell_type": "raw",
   "metadata": {
    "raw_mimetype": "text/html"
   },
   "source": [
    "<!-- @Verhavert_et_al_2022 The current article proposes a new adaptive selection algorithm using a previously calibrated reference set. Using a reference set should eliminate the reliability inflation. It is proven that this adaptive selection algorithm is more efficient without reducing the accuracy of the results and without increasing the standard deviation of the assessment results. Akin to BIB designs and more specifically to BTIB designs  -->"
   ],
   "id": "30aef103-50ce-41a9-a1f5-a160f81d2824"
  },
  {
   "cell_type": "raw",
   "metadata": {
    "raw_mimetype": "text/html"
   },
   "source": [
    "<!-- and issues related to the method's experimental design. These issues can affect the method's reliability, validity, and practical applicability. -->"
   ],
   "id": "285aeda9-58c0-4698-9bd5-76a98d39e44c"
  },
  {
   "cell_type": "raw",
   "metadata": {
    "raw_mimetype": "text/html"
   },
   "source": [
    "<!-- @Coertjens_et_al_2017 assess reliability and time investment. We conclude that pairwise comparison requires a similar time investment from evaluators as the criterion list method. We want to note that the outcomes in this study depend heavily on the design. First, the time taken for an assessment is strongly determined by the length of the criteria list used and the length of the texts (Breland, 1983). Not adaptive -->"
   ],
   "id": "f2c2ee06-71a0-4f51-b78d-51aba8215abc"
  },
  {
   "cell_type": "raw",
   "metadata": {
    "raw_mimetype": "text/html"
   },
   "source": [
    "<!-- Although the process of pairwise comparisons is quite easy and fast for raters to apply (@Laming_2004; @Pollitt_2004), even without training, the increase in time investment that is needed for CJ decreases its feasibility in educational practice. -->"
   ],
   "id": "645543e9-ef7e-42fb-97d9-2c1fdbbf0e47"
  },
  {
   "cell_type": "raw",
   "metadata": {
    "raw_mimetype": "text/html"
   },
   "source": [
    "<!-- Messick_1989 talks about efficiency and feasibility for application  -->"
   ],
   "id": "3e1043af-9a3d-467b-87c0-838851ff9a12"
  },
  {
   "cell_type": "raw",
   "metadata": {
    "raw_mimetype": "text/html"
   },
   "source": [
    "<!-- @Bramley_2008 proposes ranking instead of comparisons -->"
   ],
   "id": "a0c43fe0-783f-4e29-9142-41e3dc5bffe5"
  },
  {
   "cell_type": "raw",
   "metadata": {
    "raw_mimetype": "text/html"
   },
   "source": [
    "<!-- talk about the number of comparisons @Verhavert_et_al_2019, @Crompvoets_et_al_2022, @Pollitt_2004 -->"
   ],
   "id": "828c5c47-03b8-4796-91bd-1c86cee9dacd"
  },
  {
   "cell_type": "raw",
   "metadata": {
    "raw_mimetype": "text/html"
   },
   "source": [
    "<!-- @Pollitt_2012b concludes that speed is not related to the quality of assessments in pairwise comparisons -->"
   ],
   "id": "6613e0e4-f407-46ae-9d52-0d9fe51558eb"
  },
  {
   "cell_type": "raw",
   "metadata": {
    "raw_mimetype": "text/html"
   },
   "source": [
    "<!-- All studies use SSR as a measure of reliability -->"
   ],
   "id": "471ee070-c3bf-4b29-82d9-239b93de4ccc"
  },
  {
   "cell_type": "markdown",
   "metadata": {},
   "source": [
    "# Theory"
   ],
   "id": "ce20315b-8459-43f7-a359-9693ad5d08ae"
  },
  {
   "cell_type": "raw",
   "metadata": {
    "raw_mimetype": "text/html"
   },
   "source": [
    "<!-- recording 1 -->"
   ],
   "id": "e446c5ef-7dbb-46a5-a64d-e221677ea94f"
  },
  {
   "cell_type": "raw",
   "metadata": {
    "raw_mimetype": "text/html"
   },
   "source": [
    "<!-- Part 2; 00:14:30 - 00:21:00 -->"
   ],
   "id": "752757e6-f537-42e2-bcbe-5ceb9182b24e"
  },
  {
   "cell_type": "raw",
   "metadata": {
    "raw_mimetype": "text/html"
   },
   "source": [
    "<!-- 3. What is the solution? -->"
   ],
   "id": "2e1e1114-3976-47b7-807d-813fee83d3c5"
  },
  {
   "cell_type": "raw",
   "metadata": {
    "raw_mimetype": "text/html"
   },
   "source": [
    "<!-- Notes:  -->"
   ],
   "id": "0c7b4533-9ec7-4f57-9742-492450a10f28"
  },
  {
   "cell_type": "raw",
   "metadata": {
    "raw_mimetype": "text/html"
   },
   "source": [
    "<!-- - There is some gain on considering a more integrated overarching systematic way of looking on what happen in DCJ when people compare two stimuli -->"
   ],
   "id": "9d79c0cd-7f17-4487-b680-6afb6af0bb53"
  },
  {
   "cell_type": "raw",
   "metadata": {
    "raw_mimetype": "text/html"
   },
   "source": [
    "<!-- - This paper tries to systematically integrate all aspects at play in a single scientific model, we will build the model in a stepwise manner using -->"
   ],
   "id": "1d9c27df-c604-4d20-acae-c73e8bb0af7e"
  },
  {
   "cell_type": "raw",
   "metadata": {
    "raw_mimetype": "text/html"
   },
   "source": [
    "<!-- - we will build a scientific model (more theoretical model) that integrates different aspects of the method that are at play when people use DCJ. -->"
   ],
   "id": "57edaecd-413a-474b-9f3c-a70b8ff53e1c"
  },
  {
   "cell_type": "markdown",
   "metadata": {},
   "source": [
    "## A theoretical model for CJ\n",
    "\n",
    "## From theory to statistics"
   ],
   "id": "80e8185a-9e45-4c3b-a92e-fb490582fd2d"
  },
  {
   "cell_type": "raw",
   "metadata": {
    "raw_mimetype": "text/html"
   },
   "source": [
    "<!-- @Pritikin_2020 and @Gray_et_al_2024 bayesian modeling attempts -->"
   ],
   "id": "8aed6402-1712-4fe0-832e-341d5b939472"
  },
  {
   "cell_type": "markdown",
   "metadata": {},
   "source": [
    "# Discussion\n",
    "\n",
    "## Findings"
   ],
   "id": "ef6db527-c4b8-46a2-93d5-82743038e072"
  },
  {
   "cell_type": "raw",
   "metadata": {
    "raw_mimetype": "text/html"
   },
   "source": [
    "<!-- Pollitt (2012a) argues that assessors in pairwise comparisons need less training, given intuitive comparison and decision making. However, there is a distinct lack of research on the role of training.  -->"
   ],
   "id": "40aa7517-137c-436e-bb9c-ae11a8b290cb"
  },
  {
   "cell_type": "raw",
   "metadata": {
    "raw_mimetype": "text/html"
   },
   "source": [
    "<!-- Due to efficiency of scoring, most of research only colects only one text. This assumes that there is significant homogeneity between text of the same individual, compared to the between individual variability. However, this cannot be known ad-hoc.  -->"
   ],
   "id": "8c14e2ee-95c9-42d9-84a5-1596c95469ca"
  },
  {
   "cell_type": "markdown",
   "metadata": {},
   "source": [
    "## Limitations and further research\n",
    "\n",
    "# Conclusion\n",
    "\n",
    "\u000c\n",
    "\n",
    "# Declarations\n",
    "\n",
    "**Funding:** The project was founded through the Research Fund of the University of Antwerp (BOF).\n",
    "\n",
    "**Financial interests:** The authors have no relevant financial interest to disclose.\n",
    "\n",
    "**Non-financial interests:** Author XX serve on advisory broad of Company Y but receives no compensation this role.\n",
    "\n",
    "**Ethics approval:** The University of Antwerp Research Ethics Committee has confirmed that no ethical approval is required.\n",
    "\n",
    "**Consent to participate:** Not applicable\n",
    "\n",
    "**Consent for publication:** All authors have read and agreed to the published version of the manuscript.\n",
    "\n",
    "**Availability of data and materials:** No data was utilized in this study.\n",
    "\n",
    "**Code availability:** All the code utilized in this research is available in the digital document located at: <https://jriveraespejo.github.io/paper2_manuscript/>.\n",
    "\n",
    "**AI-assisted technologies in the writing process:** The authors used ChatGPT, an AI language model, during the preparation of this work. They occasionally employed the tool to refine phrasing and optimize wording, ensuring appropriate language use and enhancing the manuscript’s clarity and coherence. The authors take full responsibility for the final content of the publication.\n",
    "\n",
    "**CRediT authorship contribution statement:** *Conceptualization:* S.G., S.DM., T.vD., and J.M.R.E; *Methodology:* S.DM., T.vD., and J.M.R.E; *Software:* J.M.R.E.; *Validation:* J.M.R.E.; *Formal Analysis:* J.M.R.E.; *Investigation:* J.M.R.E; *Resources:* S.G., S.DM., and T.vD.; *Data curation:* J.M.R.E.; *Writing - original draft:* J.M.R.E.; *Writing - review & editing:* S.G., S.DM., and T.vD.; *Visualization:* J.M.R.E.; *Supervision:* S.G. and S.DM.; *Project administration:* S.G. and S.DM.; *Funding acquisition:* S.G. and S.DM."
   ],
   "id": "3f60c544-47f3-4c6a-a476-81a8268bcbde"
  },
  {
   "cell_type": "raw",
   "metadata": {
    "raw_mimetype": "text/html"
   },
   "source": [
    "<!-- **Acknowledgements:** -->"
   ],
   "id": "3bc3f1c0-0a91-4428-ba7e-9d2c4be0c47c"
  },
  {
   "cell_type": "markdown",
   "metadata": {},
   "source": [
    "\u000c\n",
    "\n",
    "# Appendix\n",
    "\n",
    "## Appendix A: Ignoring uncertainty"
   ],
   "id": "c1fe38b8-a079-48ac-b731-2d88129a1bab"
  },
  {
   "cell_type": "code",
   "execution_count": null,
   "metadata": {},
   "outputs": [],
   "source": [
    "# # simulate units and sub-units\n",
    "# USd = sim_units_trait( Un=10,\n",
    "#                        Us=c(1,1),\n",
    "#                        Ub=c(0,-0.2,0.2),\n",
    "#                        Useed = 45789,\n",
    "#                        Sn=6,\n",
    "#                        Ss=c(0.8,0.8),\n",
    "#                        Sb=c(0,0,0),\n",
    "#                        Sseed = 9478 )\n",
    "# \n",
    "# # simulate judges bias\n",
    "# Jd = sim_judges_bias( Jn=10,\n",
    "#                       Js=c(0.02,0.02),\n",
    "#                       Jseed = 79985 )\n",
    "# \n",
    "# \n",
    "# # simulate full comparison data\n",
    "# d = cm_full( USd=USd$USd,\n",
    "#              Jd=Jd$Jd )\n",
    "# \n",
    "# \n",
    "# # set data in list\n",
    "# dL = list_data( d )\n",
    "# str(dL)"
   ],
   "id": "2a1c81a1-97f4-42c0-8ae9-91995036209a"
  },
  {
   "cell_type": "markdown",
   "metadata": {},
   "source": [
    "## Appendix B: The five cases of Thurstone"
   ],
   "id": "7dfd3b5b-d28c-4491-9a56-a3c640ff5a15"
  },
  {
   "cell_type": "raw",
   "metadata": {
    "raw_mimetype": "text/html"
   },
   "source": [
    "<!-- Thurstone's comparative judgment (CJ) theory [@Thurstone_1927] is composed of two key elements: the discriminal process and the law of comparative judgment.   -->"
   ],
   "id": "a8b3b461-127f-4d20-a97b-7ef8b17511f1"
  },
  {
   "cell_type": "raw",
   "metadata": {
    "raw_mimetype": "text/html"
   },
   "source": [
    "<!-- In a CJ study evaluating text quality quality of written texts -->"
   ],
   "id": "16a93896-16a1-4ed4-a8a7-d04d121e3d02"
  },
  {
   "cell_type": "markdown",
   "metadata": {},
   "source": [
    "\u000c\n",
    "\n",
    "# References"
   ],
   "id": "41fe287d-3eb4-4ea4-8000-cf66dc37c90d"
  }
 ],
 "nbformat": 4,
 "nbformat_minor": 5,
 "metadata": {}
}
