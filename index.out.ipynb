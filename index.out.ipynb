{
 "cells": [
  {
   "cell_type": "markdown",
   "metadata": {},
   "source": [
    "# Let’s talk about Thurstone & Co.: An information-theoretical model for\n",
    "\n",
    "comparative judgments, and its statistical translation\n",
    "\n",
    "[Jose Manuel Rivera Espejo](https://www.uantwerpen.be/en/staff/jose-manuel-rivera-espejo_23166/) [![](data:image/png;base64,iVBORw0KGgoAAAANSUhEUgAAABAAAAAQCAYAAAAf8/9hAAAAGXRFWHRTb2Z0d2FyZQBBZG9iZSBJbWFnZVJlYWR5ccllPAAAA2ZpVFh0WE1MOmNvbS5hZG9iZS54bXAAAAAAADw/eHBhY2tldCBiZWdpbj0i77u/IiBpZD0iVzVNME1wQ2VoaUh6cmVTek5UY3prYzlkIj8+IDx4OnhtcG1ldGEgeG1sbnM6eD0iYWRvYmU6bnM6bWV0YS8iIHg6eG1wdGs9IkFkb2JlIFhNUCBDb3JlIDUuMC1jMDYwIDYxLjEzNDc3NywgMjAxMC8wMi8xMi0xNzozMjowMCAgICAgICAgIj4gPHJkZjpSREYgeG1sbnM6cmRmPSJodHRwOi8vd3d3LnczLm9yZy8xOTk5LzAyLzIyLXJkZi1zeW50YXgtbnMjIj4gPHJkZjpEZXNjcmlwdGlvbiByZGY6YWJvdXQ9IiIgeG1sbnM6eG1wTU09Imh0dHA6Ly9ucy5hZG9iZS5jb20veGFwLzEuMC9tbS8iIHhtbG5zOnN0UmVmPSJodHRwOi8vbnMuYWRvYmUuY29tL3hhcC8xLjAvc1R5cGUvUmVzb3VyY2VSZWYjIiB4bWxuczp4bXA9Imh0dHA6Ly9ucy5hZG9iZS5jb20veGFwLzEuMC8iIHhtcE1NOk9yaWdpbmFsRG9jdW1lbnRJRD0ieG1wLmRpZDo1N0NEMjA4MDI1MjA2ODExOTk0QzkzNTEzRjZEQTg1NyIgeG1wTU06RG9jdW1lbnRJRD0ieG1wLmRpZDozM0NDOEJGNEZGNTcxMUUxODdBOEVCODg2RjdCQ0QwOSIgeG1wTU06SW5zdGFuY2VJRD0ieG1wLmlpZDozM0NDOEJGM0ZGNTcxMUUxODdBOEVCODg2RjdCQ0QwOSIgeG1wOkNyZWF0b3JUb29sPSJBZG9iZSBQaG90b3Nob3AgQ1M1IE1hY2ludG9zaCI+IDx4bXBNTTpEZXJpdmVkRnJvbSBzdFJlZjppbnN0YW5jZUlEPSJ4bXAuaWlkOkZDN0YxMTc0MDcyMDY4MTE5NUZFRDc5MUM2MUUwNEREIiBzdFJlZjpkb2N1bWVudElEPSJ4bXAuZGlkOjU3Q0QyMDgwMjUyMDY4MTE5OTRDOTM1MTNGNkRBODU3Ii8+IDwvcmRmOkRlc2NyaXB0aW9uPiA8L3JkZjpSREY+IDwveDp4bXBtZXRhPiA8P3hwYWNrZXQgZW5kPSJyIj8+84NovQAAAR1JREFUeNpiZEADy85ZJgCpeCB2QJM6AMQLo4yOL0AWZETSqACk1gOxAQN+cAGIA4EGPQBxmJA0nwdpjjQ8xqArmczw5tMHXAaALDgP1QMxAGqzAAPxQACqh4ER6uf5MBlkm0X4EGayMfMw/Pr7Bd2gRBZogMFBrv01hisv5jLsv9nLAPIOMnjy8RDDyYctyAbFM2EJbRQw+aAWw/LzVgx7b+cwCHKqMhjJFCBLOzAR6+lXX84xnHjYyqAo5IUizkRCwIENQQckGSDGY4TVgAPEaraQr2a4/24bSuoExcJCfAEJihXkWDj3ZAKy9EJGaEo8T0QSxkjSwORsCAuDQCD+QILmD1A9kECEZgxDaEZhICIzGcIyEyOl2RkgwAAhkmC+eAm0TAAAAABJRU5ErkJggg==)](https://orcid.org/0000-0002-3088-2783) (University of Antwerp)  \n",
    "[Tine van Daal](https://www.uantwerpen.be/en/staff/tine-vandaal/) [![](data:image/png;base64,iVBORw0KGgoAAAANSUhEUgAAABAAAAAQCAYAAAAf8/9hAAAAGXRFWHRTb2Z0d2FyZQBBZG9iZSBJbWFnZVJlYWR5ccllPAAAA2ZpVFh0WE1MOmNvbS5hZG9iZS54bXAAAAAAADw/eHBhY2tldCBiZWdpbj0i77u/IiBpZD0iVzVNME1wQ2VoaUh6cmVTek5UY3prYzlkIj8+IDx4OnhtcG1ldGEgeG1sbnM6eD0iYWRvYmU6bnM6bWV0YS8iIHg6eG1wdGs9IkFkb2JlIFhNUCBDb3JlIDUuMC1jMDYwIDYxLjEzNDc3NywgMjAxMC8wMi8xMi0xNzozMjowMCAgICAgICAgIj4gPHJkZjpSREYgeG1sbnM6cmRmPSJodHRwOi8vd3d3LnczLm9yZy8xOTk5LzAyLzIyLXJkZi1zeW50YXgtbnMjIj4gPHJkZjpEZXNjcmlwdGlvbiByZGY6YWJvdXQ9IiIgeG1sbnM6eG1wTU09Imh0dHA6Ly9ucy5hZG9iZS5jb20veGFwLzEuMC9tbS8iIHhtbG5zOnN0UmVmPSJodHRwOi8vbnMuYWRvYmUuY29tL3hhcC8xLjAvc1R5cGUvUmVzb3VyY2VSZWYjIiB4bWxuczp4bXA9Imh0dHA6Ly9ucy5hZG9iZS5jb20veGFwLzEuMC8iIHhtcE1NOk9yaWdpbmFsRG9jdW1lbnRJRD0ieG1wLmRpZDo1N0NEMjA4MDI1MjA2ODExOTk0QzkzNTEzRjZEQTg1NyIgeG1wTU06RG9jdW1lbnRJRD0ieG1wLmRpZDozM0NDOEJGNEZGNTcxMUUxODdBOEVCODg2RjdCQ0QwOSIgeG1wTU06SW5zdGFuY2VJRD0ieG1wLmlpZDozM0NDOEJGM0ZGNTcxMUUxODdBOEVCODg2RjdCQ0QwOSIgeG1wOkNyZWF0b3JUb29sPSJBZG9iZSBQaG90b3Nob3AgQ1M1IE1hY2ludG9zaCI+IDx4bXBNTTpEZXJpdmVkRnJvbSBzdFJlZjppbnN0YW5jZUlEPSJ4bXAuaWlkOkZDN0YxMTc0MDcyMDY4MTE5NUZFRDc5MUM2MUUwNEREIiBzdFJlZjpkb2N1bWVudElEPSJ4bXAuZGlkOjU3Q0QyMDgwMjUyMDY4MTE5OTRDOTM1MTNGNkRBODU3Ii8+IDwvcmRmOkRlc2NyaXB0aW9uPiA8L3JkZjpSREY+IDwveDp4bXBtZXRhPiA8P3hwYWNrZXQgZW5kPSJyIj8+84NovQAAAR1JREFUeNpiZEADy85ZJgCpeCB2QJM6AMQLo4yOL0AWZETSqACk1gOxAQN+cAGIA4EGPQBxmJA0nwdpjjQ8xqArmczw5tMHXAaALDgP1QMxAGqzAAPxQACqh4ER6uf5MBlkm0X4EGayMfMw/Pr7Bd2gRBZogMFBrv01hisv5jLsv9nLAPIOMnjy8RDDyYctyAbFM2EJbRQw+aAWw/LzVgx7b+cwCHKqMhjJFCBLOzAR6+lXX84xnHjYyqAo5IUizkRCwIENQQckGSDGY4TVgAPEaraQr2a4/24bSuoExcJCfAEJihXkWDj3ZAKy9EJGaEo8T0QSxkjSwORsCAuDQCD+QILmD1A9kECEZgxDaEZhICIzGcIyEyOl2RkgwAAhkmC+eAm0TAAAAABJRU5ErkJggg==)](https://orcid.org/https://orcid.org/0000-0001-9398-9775) (University of Antwerp)  \n",
    "[Sven De Maeyer](https://www.uantwerpen.be/en/staff/sven-demaeyer/) [![](data:image/png;base64,iVBORw0KGgoAAAANSUhEUgAAABAAAAAQCAYAAAAf8/9hAAAAGXRFWHRTb2Z0d2FyZQBBZG9iZSBJbWFnZVJlYWR5ccllPAAAA2ZpVFh0WE1MOmNvbS5hZG9iZS54bXAAAAAAADw/eHBhY2tldCBiZWdpbj0i77u/IiBpZD0iVzVNME1wQ2VoaUh6cmVTek5UY3prYzlkIj8+IDx4OnhtcG1ldGEgeG1sbnM6eD0iYWRvYmU6bnM6bWV0YS8iIHg6eG1wdGs9IkFkb2JlIFhNUCBDb3JlIDUuMC1jMDYwIDYxLjEzNDc3NywgMjAxMC8wMi8xMi0xNzozMjowMCAgICAgICAgIj4gPHJkZjpSREYgeG1sbnM6cmRmPSJodHRwOi8vd3d3LnczLm9yZy8xOTk5LzAyLzIyLXJkZi1zeW50YXgtbnMjIj4gPHJkZjpEZXNjcmlwdGlvbiByZGY6YWJvdXQ9IiIgeG1sbnM6eG1wTU09Imh0dHA6Ly9ucy5hZG9iZS5jb20veGFwLzEuMC9tbS8iIHhtbG5zOnN0UmVmPSJodHRwOi8vbnMuYWRvYmUuY29tL3hhcC8xLjAvc1R5cGUvUmVzb3VyY2VSZWYjIiB4bWxuczp4bXA9Imh0dHA6Ly9ucy5hZG9iZS5jb20veGFwLzEuMC8iIHhtcE1NOk9yaWdpbmFsRG9jdW1lbnRJRD0ieG1wLmRpZDo1N0NEMjA4MDI1MjA2ODExOTk0QzkzNTEzRjZEQTg1NyIgeG1wTU06RG9jdW1lbnRJRD0ieG1wLmRpZDozM0NDOEJGNEZGNTcxMUUxODdBOEVCODg2RjdCQ0QwOSIgeG1wTU06SW5zdGFuY2VJRD0ieG1wLmlpZDozM0NDOEJGM0ZGNTcxMUUxODdBOEVCODg2RjdCQ0QwOSIgeG1wOkNyZWF0b3JUb29sPSJBZG9iZSBQaG90b3Nob3AgQ1M1IE1hY2ludG9zaCI+IDx4bXBNTTpEZXJpdmVkRnJvbSBzdFJlZjppbnN0YW5jZUlEPSJ4bXAuaWlkOkZDN0YxMTc0MDcyMDY4MTE5NUZFRDc5MUM2MUUwNEREIiBzdFJlZjpkb2N1bWVudElEPSJ4bXAuZGlkOjU3Q0QyMDgwMjUyMDY4MTE5OTRDOTM1MTNGNkRBODU3Ii8+IDwvcmRmOkRlc2NyaXB0aW9uPiA8L3JkZjpSREY+IDwveDp4bXBtZXRhPiA8P3hwYWNrZXQgZW5kPSJyIj8+84NovQAAAR1JREFUeNpiZEADy85ZJgCpeCB2QJM6AMQLo4yOL0AWZETSqACk1gOxAQN+cAGIA4EGPQBxmJA0nwdpjjQ8xqArmczw5tMHXAaALDgP1QMxAGqzAAPxQACqh4ER6uf5MBlkm0X4EGayMfMw/Pr7Bd2gRBZogMFBrv01hisv5jLsv9nLAPIOMnjy8RDDyYctyAbFM2EJbRQw+aAWw/LzVgx7b+cwCHKqMhjJFCBLOzAR6+lXX84xnHjYyqAo5IUizkRCwIENQQckGSDGY4TVgAPEaraQr2a4/24bSuoExcJCfAEJihXkWDj3ZAKy9EJGaEo8T0QSxkjSwORsCAuDQCD+QILmD1A9kECEZgxDaEZhICIzGcIyEyOl2RkgwAAhkmC+eAm0TAAAAABJRU5ErkJggg==)](https://orcid.org/0000-0003-2888-1631) (University of Antwerp)  \n",
    "[Steven Gillis](https://www.uantwerpen.be/nl/personeel/steven-gillis/) (University of Antwerp)  \n",
    "November 5, 2024\n",
    "\n",
    "(to do)"
   ],
   "id": "752f0657-0241-4abe-8b2a-e83588155722"
  },
  {
   "cell_type": "code",
   "execution_count": null,
   "metadata": {},
   "outputs": [],
   "source": [
    "# # load packages\n",
    "# libraries = c('RColorBrewer','stringr','dplyr','tidyverse',\n",
    "#               'rechape2','knitr','kableExtra',\n",
    "#               'rstan','StanHeaders','runjags','rethinking')\n",
    "# sapply(libraries, require, character.only=T)"
   ],
   "id": "e7660c4b-8368-4b9b-ac61-4d9036ea39fa"
  },
  {
   "cell_type": "code",
   "execution_count": null,
   "metadata": {},
   "outputs": [],
   "source": [
    "# # load functions\n",
    "# main_dir = '/home/josema/Desktop/1. Work/1 research/PhD Antwerp/#thesis/paper2/paper2_manuscript'\n",
    "# source( file.path( main_dir, 'code', 'user-defined-functions.R') )"
   ],
   "id": "82e8701f-b3fd-447f-95b6-c51ab141cc29"
  },
  {
   "cell_type": "markdown",
   "metadata": {},
   "source": [
    "# 1. Introduction"
   ],
   "id": "c2856293-22ca-4a1b-8535-0e84ea2d2070"
  },
  {
   "cell_type": "raw",
   "metadata": {
    "raw_mimetype": "text/html"
   },
   "source": [
    "<!-- recording 1 -->"
   ],
   "id": "edccb398-4f01-451e-b9cf-9eb43a6d9f72"
  },
  {
   "cell_type": "raw",
   "metadata": {
    "raw_mimetype": "text/html"
   },
   "source": [
    "<!-- Part 1; 00:00:00 - 00:09:10 -->"
   ],
   "id": "abf5c77d-e074-4530-aa63-3f9f217e42f3"
  },
  {
   "cell_type": "raw",
   "metadata": {
    "raw_mimetype": "text/html"
   },
   "source": [
    "<!-- recording 2 -->"
   ],
   "id": "d17e4afe-c22c-4843-992b-56475333fd02"
  },
  {
   "cell_type": "raw",
   "metadata": {
    "raw_mimetype": "text/html"
   },
   "source": [
    "<!-- Part 2; 00:00:00 - 00:17:30 -->"
   ],
   "id": "b43a5be4-7a77-4d93-897d-3bd7f97bbc77"
  },
  {
   "cell_type": "raw",
   "metadata": {
    "raw_mimetype": "text/html"
   },
   "source": [
    "<!-- 1. What does CJ do? -->"
   ],
   "id": "43d43864-e5f9-4fa0-a4c8-8924e9f95fb6"
  },
  {
   "cell_type": "markdown",
   "metadata": {},
   "source": [
    "In *comparative judgment* (CJ) studies, judges assess the presence of a trait or competence by conducting pairwise comparisons of stimuli ([Thurstone 1927](#ref-Thurstone_1927); [Pollitt 2004](#ref-Pollitt_2004), [2012a](#ref-Pollitt_2012a)). The comparison produces a dichotomous outcome, indicating which stimulus is perceived to possess a higher trait level. After conducting multiple rounds of pairwise comparisons, researchers use the Bradley-Terry-Luce (BTL) model ([Bradley and Terry 1952](#ref-Bradley_et_al_1952); [Luce 1959](#ref-Luce_1959)) to process the outcomes and estimate scores that reflect the underlying trait of interest. This method has been successfully employed in assessing the quality of written texts, where quality describes the underlying trait of interest and the texts serve as the stimuli ([Laming 2004](#ref-Laming_2004); [Pollitt 2012b](#ref-Pollitt_2012b); [Whitehouse 2012](#ref-Whitehouse_2012); [van Daal et al. 2016](#ref-vanDaal_et_al_2016); [Lesterhuis 2018](#ref-Lesterhuis_2018); [Coertjens et al. 2017](#ref-Coertjens_et_al_2017); [Goossens and De Maeyer 2018](#ref-Goossens_et_al_2018); [Bouwer et al. 2023](#ref-Bouwer_et_al_2023))."
   ],
   "id": "628a818f-0e68-48cd-bac6-218ad2970a1b"
  },
  {
   "cell_type": "raw",
   "metadata": {
    "raw_mimetype": "text/html"
   },
   "source": [
    "<!-- Specifically, CJ has been used to evaluate the quality of written texts [@Laming_2004; @Pollitt_2012b; @Whitehouse_2012; @vanDaal_et_al_2016; @Lesterhuis_2018; @Coertjens_et_al_2017; @Goossens_et_al_2018; @Bouwer_et_al_2023] and to assess the quality of speech [@Boonen_et_al_2020]. Additionally, it has been applied to evaluate various competencies, including mathematical problem-solving skills [@Jones_2015], engineering design skills [@Bartholomew_et_al_2018], conceptual understanding in algebra [@Jones_et_al_2019], statistical and English knowdlege [@Marshall_et_al_2020], and STEM knowledge and skills [@Bartholomew_et_al_2020]. -->"
   ],
   "id": "1478e5bb-5e4b-45ac-9b5c-f06b08b86ce6"
  },
  {
   "cell_type": "raw",
   "metadata": {
    "raw_mimetype": "text/html"
   },
   "source": [
    "<!-- 2. Where are we now with DCJ? -->"
   ],
   "id": "ea4cd7af-aa25-4fd5-8151-3dec57f0923d"
  },
  {
   "cell_type": "markdown",
   "metadata": {},
   "source": [
    "Numerous studies have documented the effectiveness of CJ in assessing various traits and competencies over the past decade. These studies have emphasized three aspects of the method’s effectiveness: its reliability, validity, and practical applicability. Research on reliability indicates that CJ requires a relatively small number of pairwise comparisons ([S. Verhavert et al. 2019](#ref-Verhavert_et_al_2019); [Crompvoets, Béguin, and Sijtsma 2022](#ref-Crompvoets_et_al_2022)) to produce trait scores that are as precise and consistent as those generated by other assessment methods ([Coertjens et al. 2017](#ref-Coertjens_et_al_2017); [Goossens and De Maeyer 2018](#ref-Goossens_et_al_2018); [Bouwer et al. 2023](#ref-Bouwer_et_al_2023)). Furthermore, evidence suggests that the reliability and time efficiency of CJ are comparable, if not superior, to those of other assessment methods when employing adaptive comparison algorithms ([Pollitt 2012b](#ref-Pollitt_2012b); [San Verhavert, Furlong, and Bouwer 2022](#ref-Verhavert_et_al_2022); [Mikhailiuk et al. 2021](#ref-Mikhailiuk_et_al_2021)). Additionally, research on validity suggests that scores generated by CJ can accurately represent the traits under measurement ([Whitehouse 2012](#ref-Whitehouse_2012); [van Daal et al. 2016](#ref-vanDaal_et_al_2016); [Lesterhuis 2018](#ref-Lesterhuis_2018); [Bartholomew et al. 2018](#ref-Bartholomew_et_al_2018); [Bouwer et al. 2023](#ref-Bouwer_et_al_2023)). Finally, research on practical applicability highlights the method’s versatility across both educational and non-educational contexts ([Jones 2015](#ref-Jones_2015); [Bartholomew et al. 2018](#ref-Bartholomew_et_al_2018); [Jones et al. 2019](#ref-Jones_et_al_2019); [Marshall et al. 2020](#ref-Marshall_et_al_2020); [Bartholomew and Williams 2020](#ref-Bartholomew_et_al_2020); [Boonen, Kloots, and Gillis 2020](#ref-Boonen_et_al_2020))."
   ],
   "id": "c5efd05e-7712-4427-b5cf-7539fc939458"
  },
  {
   "cell_type": "raw",
   "metadata": {
    "raw_mimetype": "text/html"
   },
   "source": [
    "<!-- rubrics [@Coertjens_et_al_2017; @Goossens_et_al_2018]  -->"
   ],
   "id": "564dac49-291a-4fb4-bea5-8fd65d48b5a4"
  },
  {
   "cell_type": "raw",
   "metadata": {
    "raw_mimetype": "text/html"
   },
   "source": [
    "<!-- holistic benchmark ratings [@Bouwer_et_al_2023] -->"
   ],
   "id": "a4d829ef-90ec-4c1b-8053-5153e99285c8"
  },
  {
   "cell_type": "raw",
   "metadata": {
    "raw_mimetype": "text/html"
   },
   "source": [
    "<!-- Adaptive comparison algorithms dynamically present stimuli to judges, based on the results of previous comparisons. They aim to enhance the informativeness of comparisons while optimizing judges' time [@Bramley_2015].  -->"
   ],
   "id": "22f9f936-633c-451e-828e-4b65be2444db"
  },
  {
   "cell_type": "raw",
   "metadata": {
    "raw_mimetype": "text/html"
   },
   "source": [
    "<!-- 3. But what are the problems of DCJ as a method? -->"
   ],
   "id": "9c0ce601-8190-4f68-8c32-a19644668b40"
  },
  {
   "cell_type": "markdown",
   "metadata": {},
   "source": [
    "Nevertheless, despite the growing number of CJ studies, the literature’s unsystematic and fragmented research approaches have left several critical issues unaddressed. This research primarily focuses on three: the apparent disconnect between CJ’s measurement and structural model, the over-reliance on the assumptions of Thurstone’s Case 5 ([1927](#ref-Thurstone_1927)) in CJ’s measurement model, and the unclear role of comparison algorithms on the method’s reliability and validity. The following sections will discuss each of these issues in detail, followed by the introduction of a theoretical model and its statistical translation, which aims to address all three concerns simultaneously.\n",
    "\n",
    "# 2. Three critical issues in CJ literature\n",
    "\n",
    "## 2.1 The disconnect between structural and measurement models"
   ],
   "id": "87fbd677-f0cc-42a2-b844-f602fb188b41"
  },
  {
   "cell_type": "raw",
   "metadata": {
    "raw_mimetype": "text/html"
   },
   "source": [
    "<!-- 1. The BTL model is CJ's measurement model -->"
   ],
   "id": "844a815b-0d30-4c9b-af70-3a08d30d7fc9"
  },
  {
   "cell_type": "markdown",
   "metadata": {},
   "source": [
    "In a typical CJ study, the BTL model serves as the measurement model for CJ ([Andrich 1978](#ref-Andrich_1978); [Bramley 2008](#ref-Bramley_2008)). A measurement model specifies how manifest variables contribute to the estimation of latent variables ([Everitt and Skrondal 2010](#ref-Everitt_et_al_2010)). For example, when evaluating text quality, the BTL model uses the dichotomous outcomes resulting from the pairwise comparisons (the manifest variables) to estimate scores that reflect the underlying quality level of the texts (the latent variable) ([Laming 2004](#ref-Laming_2004); [Pollitt 2012b](#ref-Pollitt_2012b); [Whitehouse 2012](#ref-Whitehouse_2012); [van Daal et al. 2016](#ref-vanDaal_et_al_2016); [Lesterhuis 2018](#ref-Lesterhuis_2018); [Coertjens et al. 2017](#ref-Coertjens_et_al_2017); [Goossens and De Maeyer 2018](#ref-Goossens_et_al_2018); [Bouwer et al. 2023](#ref-Bouwer_et_al_2023))."
   ],
   "id": "1152d81a-3b9c-4f95-97e8-f685f1bb5b3f"
  },
  {
   "cell_type": "raw",
   "metadata": {
    "raw_mimetype": "text/html"
   },
   "source": [
    "<!-- 2. But there is no structural model, only post estimation analyses -->"
   ],
   "id": "86c03ecd-a396-49ab-b093-e0486400e141"
  },
  {
   "cell_type": "markdown",
   "metadata": {},
   "source": [
    "Researchers then typically use the estimated BTL scores, or their transformations, to conduct additional analyses or hypothesis testing. The scores have been used to identify ‘misfit’ judges and stimuli ([Pollitt 2012b](#ref-Pollitt_2012b); [van Daal et al. 2017](#ref-vanDaal_et_al_2017); [Goossens and De Maeyer 2018](#ref-Goossens_et_al_2018)), detect biases in judges’ ratings ([Pollitt and Elliott 2003](#ref-Pollitt_et_al_2003); [Pollitt 2012b](#ref-Pollitt_2012b)), calculate correlations with other assessment methods ([Goossens and De Maeyer 2018](#ref-Goossens_et_al_2018); [Bouwer et al. 2023](#ref-Bouwer_et_al_2023)), or test hypotheses related to the underlying trait of interest ([Bramley and Vitello 2019](#ref-Bramley_et_al_2019); [Boonen, Kloots, and Gillis 2020](#ref-Boonen_et_al_2020); [Bouwer et al. 2023](#ref-Bouwer_et_al_2023); [van Daal et al. 2017](#ref-vanDaal_et_al_2017); [Jones et al. 2019](#ref-Jones_et_al_2019); [Gijsen et al. 2021](#ref-Gijsen_et_al_2021))."
   ],
   "id": "53ed8a82-c617-4e60-8b61-490a1e45956d"
  },
  {
   "cell_type": "raw",
   "metadata": {
    "raw_mimetype": "text/html"
   },
   "source": [
    "<!-- 3. But what is the problem with this? -->"
   ],
   "id": "994dfbab-91fe-4453-8f9c-436257cf9fc6"
  },
  {
   "cell_type": "markdown",
   "metadata": {},
   "source": [
    "However, the statistical literature cautions against using estimated scores to conduct additional analyses or tests. A key consideration is that BTL scores are parameter estimates that inherently carry uncertainty. Ignoring this uncertainty when conducting separate analyses and tests can inflate their precision and statistical power, increasing the risk of committing a type I error ([McElreath 2020](#ref-McElreath_2020)). A type I error results when a null hypothesis is incorrectly rejected ([Everitt and Skrondal 2010](#ref-Everitt_et_al_2010))."
   ],
   "id": "c79a8eb5-8449-409c-8a44-ddd0eb8a2a7b"
  },
  {
   "cell_type": "raw",
   "metadata": {
    "raw_mimetype": "text/html"
   },
   "source": [
    "<!-- 4. So, what is the solution?  -->"
   ],
   "id": "559526b1-ab45-4806-a8bb-24d211c896e7"
  },
  {
   "cell_type": "markdown",
   "metadata": {},
   "source": [
    "To mitigate these risks, principles from Structural Equation Modeling (SEM) ([Hoyle 2023](#ref-Hoyle_et_al_2023); [Kline 2023](#ref-Kline_et_al_2023)) and Item Response Theory (IRT) ([de Ayala 2009](#ref-deAyala_2009); [Fox 2010](#ref-Fox_2010); [van der Linden 2017](#ref-vanderLinden_et_al_2017)) recommend conducting these analyses and tests within a structural model. A structural model specify how different manifest or latent variables influence the latent variable of interest ([Everitt and Skrondal 2010](#ref-Everitt_et_al_2010)). This approach allows analyses that can account for both the scores and their uncertainties simultaneously, rather than treating them as separate elements. Therefore, an integrated approach that combines CJ’s structural and measurement models can offer significant advantages.\n",
    "\n",
    "## 2.2 The assumptions of Case 5 and the measurement model"
   ],
   "id": "bf3f6631-69be-4f1d-b89b-3db95b62bbf9"
  },
  {
   "cell_type": "raw",
   "metadata": {
    "raw_mimetype": "text/html"
   },
   "source": [
    "<!-- []{style=\"color:red;\"}. -->"
   ],
   "id": "ec3923b4-e9eb-4fa7-a325-bee1c97fe71d"
  },
  {
   "cell_type": "raw",
   "metadata": {
    "raw_mimetype": "text/html"
   },
   "source": [
    "<!-- 1. What are the five cases of Thurstone? -->"
   ],
   "id": "920aca00-e2d2-477c-b6d4-ea072e1136b3"
  },
  {
   "cell_type": "raw",
   "metadata": {
    "raw_mimetype": "text/html"
   },
   "source": [
    "<!-- 1. the BTL model is the statistical articulation of Case 5 -->"
   ],
   "id": "7a24f189-ff49-4c51-993a-d9a6dc1a2793"
  },
  {
   "cell_type": "markdown",
   "metadata": {},
   "source": [
    "From early on in the literature, it has been clear that the BTL model represents a statistical articulation of Thurstone’s Case 5 ([1927](#ref-Thurstone_1927)). Talk about Pollitt and Elliott ([2003](#ref-Pollitt_et_al_2003)) and Bramley ([2008](#ref-Bramley_2008)).\n",
    "\n",
    "What case 5 implies, Assumptions. Not a normal distribution but a logistic distribution\n",
    "\n",
    "Table with assumptions"
   ],
   "id": "d735b2ca-537a-4fd5-a5ab-b15181ef3ca6"
  },
  {
   "cell_type": "raw",
   "metadata": {
    "raw_mimetype": "text/html"
   },
   "source": [
    "<!-- 2. But this model hold the greater number of assumptions -->"
   ],
   "id": "47201079-bbf3-468e-ab26-f6e0e1aec456"
  },
  {
   "cell_type": "raw",
   "metadata": {
    "raw_mimetype": "text/html"
   },
   "source": [
    "<!--   Although Case 5 was originally articulated to produce a \"rather coarse scaling\" of traits [@Thurstone_1927, p. 269], its assumptions have become predominant in the literature, but Thurstone's Case 5 is the case that holds the greater amount of simplifying assumptions. -->"
   ],
   "id": "72559548-985f-45d3-9e74-4507ad2e445e"
  },
  {
   "cell_type": "raw",
   "metadata": {
    "raw_mimetype": "text/html"
   },
   "source": [
    "<!--   @Thurstone_1927 justify the use of case V, on multiple assumptions, but the most important for our purpose are three: -->"
   ],
   "id": "d233e69d-acb2-4d49-9c0c-7e6e93f52717"
  },
  {
   "cell_type": "raw",
   "metadata": {
    "raw_mimetype": "text/html"
   },
   "source": [
    "<!--   (a) related to Case 2 and case 3, it assumes the correlation between stimuli is zero, this translates into the cancellation of judges effects by mean of opposing and equally weighted 'mood' and 'simultaneous contrasts' effects. This is demonstrated using the additive nature of the logit scale, which helps to cancel 'bias' judges effects.  -->"
   ],
   "id": "e3b0065b-9162-4267-86f7-2538abc8c1e2"
  },
  {
   "cell_type": "raw",
   "metadata": {
    "raw_mimetype": "text/html"
   },
   "source": [
    "<!--   Particularly on how CJ is used now, use the text example -->"
   ],
   "id": "0d01c1c4-00bb-436a-a82f-59b9c4a61356"
  },
  {
   "cell_type": "raw",
   "metadata": {
    "raw_mimetype": "text/html"
   },
   "source": [
    "<!--   What we are saying is that the judges' effects depend on the stimuli, by means of an interaction (but present) or because the judges works as a confounder. This, in the best scenario, cause less precise estimates, and in the worst scenario, biased estimates. possibility of bias is hinted in @Bramley_2008, and later mentioned again in @Kelly_et_al_2022, and some evidence is found in @Pollitt_et_al_2003, @vanDaal_et_al_2017 and @Gijsen_et_al_2021 -->"
   ],
   "id": "fad39f8e-7c96-4436-b06d-6b224b74a34a"
  },
  {
   "cell_type": "raw",
   "metadata": {
    "raw_mimetype": "text/html"
   },
   "source": [
    "<!--   @Pollitt_et_al_2003 In Thurstone’s method each judge’s standard cancels out when a comparison is made, and any misfit between data and model must indicate a difference of some other kind. This is studied by analyzing the residuals that remain after the model is fitted to the data. Whenever one script is judged to have a higher value than a competing one it is expected to ‘win’ the comparison: if it does the residual will be small, but if it loses then the residual for that judge’s comparison of those two scripts will be large. Any patterns of large residuals will indicate some sort of bias – in this context bias simply means a source of systematic, rather than random, variability. indicates that one judge – Judge 5 – is significantly biased in some way. (Consider the problem of using adhoc methods) -->"
   ],
   "id": "1d931838-b9e9-49a6-aeab-e6d2d6ddfd00"
  },
  {
   "cell_type": "raw",
   "metadata": {
    "raw_mimetype": "text/html"
   },
   "source": [
    "<!--   Moreover, a solution was already envisioned, @Andrich_1978 and @Wainer_et_al_1978 already showed that if judges effects are parametrized, it gets eliminated experimentally in the paired comparison method.  -->"
   ],
   "id": "47eceaea-9951-4aee-8354-e707445364a7"
  },
  {
   "cell_type": "raw",
   "metadata": {
    "raw_mimetype": "text/html"
   },
   "source": [
    "<!--   use the example of writing!!! -->"
   ],
   "id": "22d2eeeb-9806-475b-911d-12b99fada415"
  },
  {
   "cell_type": "raw",
   "metadata": {
    "raw_mimetype": "text/html"
   },
   "source": [
    "<!--   (b) related to Case 3, it assumes the correlation between stimuli is zero, this also translates into the idea that stimuli are the main focus of estimation and analysis, but what happens when the focus of analysis is the individuals that generated those stimuli. Meaning there is an amount of correlation that it is not accounted for.  -->"
   ],
   "id": "2bccb88f-822e-4806-a81d-7cdf058d9a72"
  },
  {
   "cell_type": "raw",
   "metadata": {
    "raw_mimetype": "text/html"
   },
   "source": [
    "<!--   Here we loose precision, because we are not controlling for clustering -->"
   ],
   "id": "8c2f7854-e05d-4211-9a10-b595eaf2fb46"
  },
  {
   "cell_type": "raw",
   "metadata": {
    "raw_mimetype": "text/html"
   },
   "source": [
    "<!-- This is the case of clustering or measurement error, and overlooking issues such as clustering and measurement error can lead to biased and less precise parameter estimates [@McElreath_2020], ultimately diminishing the statistical power of models and increasing the likelihood of committing type I or type II errors when addressing research inquiries. -->"
   ],
   "id": "18675ed8-ea37-4529-bc15-3b1fd878ed29"
  },
  {
   "cell_type": "raw",
   "metadata": {
    "raw_mimetype": "text/html"
   },
   "source": [
    "<!-- This has been considered in the literature as a (see https://doi.org/10.1177/1471082X15571817) or a multilevel BTL model (find sources) -->"
   ],
   "id": "185120c6-4a6c-4fb9-85a4-b6b0bad737d1"
  },
  {
   "cell_type": "raw",
   "metadata": {
    "raw_mimetype": "text/html"
   },
   "source": [
    "<!--   (c) related to case 5, discriminal dispersions of the stimuli are equal, but it is not hard to imagine that certain individuals can produce good quality texts with more precision than other individuals. Example of exaggerated comparison of individuals, university students vs secondary school students. -->"
   ],
   "id": "8195455d-14d8-4399-9571-e78c13e5ced9"
  },
  {
   "cell_type": "raw",
   "metadata": {
    "raw_mimetype": "text/html"
   },
   "source": [
    "<!--   here we face misspecification in the model -->"
   ],
   "id": "43765cba-64ba-4b4b-acd8-8b82cc9e525c"
  },
  {
   "cell_type": "raw",
   "metadata": {
    "raw_mimetype": "text/html"
   },
   "source": [
    "<!-- If your scores are not reliable they cannot be valid. People have been employing a model with assumptions that they do not know if those assumptions apply for their cases. And when you do that, the scores you produce most likely will not be reliable, which, in turn, renders them invalid. -->"
   ],
   "id": "be509179-5d87-407c-9513-58f2f4c88ebe"
  },
  {
   "cell_type": "raw",
   "metadata": {
    "raw_mimetype": "text/html"
   },
   "source": [
    "<!--   [Reliability is a necessary but not sufficient condition for validity. Reliability can exist without validity but validity cannot exist without reliability [@Perron_et_al_2015]]{style=\"color:red;\"}. -->"
   ],
   "id": "4705151f-2fcc-4ef5-b0d9-9daab2ec5ee1"
  },
  {
   "cell_type": "markdown",
   "metadata": {},
   "source": [
    "## 2.3 The role and impact of comparison algorithms"
   ],
   "id": "2dfaf23f-fea2-40fe-89cb-9beb9e005933"
  },
  {
   "cell_type": "raw",
   "metadata": {
    "raw_mimetype": "text/html"
   },
   "source": [
    "<!-- Experimental design -->"
   ],
   "id": "f5a3ab8a-0226-4385-bc02-8bef4ef319d4"
  },
  {
   "cell_type": "raw",
   "metadata": {
    "raw_mimetype": "text/html"
   },
   "source": [
    "<!-- In this regard, although the literature has tested multiple features of the experimental design of the method, such as the comparison algorithm and the number of comparisons, it is not clear where this procedures fit in the whole process of comparison, and what are their implications for the outcome of the method. -->"
   ],
   "id": "c1f21d92-5a57-40f2-b87d-54ffeda537c0"
  },
  {
   "cell_type": "raw",
   "metadata": {
    "raw_mimetype": "text/html"
   },
   "source": [
    "<!-- @Bramley_et_al_2019 and @Bramley_2015 says adaptivity inflates reliability. present the evidence of bias effects of adaptive algorithms, the not clear view of how many comparisons per (sub)units are required. Adhoc rules of thumb. -->"
   ],
   "id": "c4406f73-93a6-4ee0-8c9b-cb4b9d498093"
  },
  {
   "cell_type": "raw",
   "metadata": {
    "raw_mimetype": "text/html"
   },
   "source": [
    "<!-- @Bramley_2015 -->"
   ],
   "id": "95f39c55-150c-4cd3-bbdc-3d725b28daa8"
  },
  {
   "cell_type": "raw",
   "metadata": {
    "raw_mimetype": "text/html"
   },
   "source": [
    "<!-- The implication is that the SSR statistic is worthless as an indicator of the quality / consistency / reliability of a scale constructed from an ACJ study that has involved a significant number of adaptive rounds. With random or fixed rounds, the SSR values were all below 0.25, which would generally be taken as an indicator of failure to create a meaningful scale. To put it another way, a low value of SSR almost certainly indicates low reliability, but a high value of SSR does not necessarily indicate high reliability.  -->"
   ],
   "id": "cb98e973-6b5e-4ba5-aa3b-80a86ac9fe00"
  },
  {
   "cell_type": "raw",
   "metadata": {
    "raw_mimetype": "text/html"
   },
   "source": [
    "<!-- This is not to say that the ACJ studies listed in Table 1 (or indeed other studies not listed) were themselves worthless, just that not much should be made of claims about very high reliability in ACJ studies on the basis of high values of the SSR statistic. In fact, many of those studies also showed moderate to high correlations with variables external to the analysis, which were rightly interpreted as evidence of concurrent validity. -->"
   ],
   "id": "b1a93f1b-dc83-4acd-b81a-a153154dcbde"
  },
  {
   "cell_type": "raw",
   "metadata": {
    "raw_mimetype": "text/html"
   },
   "source": [
    "<!-- The conclusion is therefore that the SSR statistic is at best misleading and at worst worthless as an indicator of scale reliability whenever a CJ study has involved a significant amount of adaptivity. -->"
   ],
   "id": "5a528e0c-6bc2-4da1-9646-f636f51c8241"
  },
  {
   "cell_type": "raw",
   "metadata": {
    "raw_mimetype": "text/html"
   },
   "source": [
    "<!-- @Gray_et_al_2024 entropy-driven active learning pair-selection algorithm to compare stimuli, vs random and no repeating pairs -->"
   ],
   "id": "806c545e-0bf0-4477-a94b-43d9330e930a"
  },
  {
   "cell_type": "raw",
   "metadata": {
    "raw_mimetype": "text/html"
   },
   "source": [
    "<!-- @DeVrindt_et_al_2024 cold start problem to optimize time efficiency. -->"
   ],
   "id": "16c31a37-f1f9-40be-a6fd-45293209eea9"
  },
  {
   "cell_type": "raw",
   "metadata": {
    "raw_mimetype": "text/html"
   },
   "source": [
    "<!-- @Mikhailiuk_et_al_2021 proposed a fully Bayesian active sampling strategy for pairwise comparisons via Approximate Message Passing and Information Gain Maximization. ASAP computes the full posterior distribution, which is crucial to achieving accurate EIG estimates, and thus the accuracy of active sampling. We recommend ASAP, as it offered the highest accuracy of inferred scores compared to existing methods in experiments with real and synthetic data. -->"
   ],
   "id": "9495f5c5-5aa5-45b9-8b86-69a54d075168"
  },
  {
   "cell_type": "raw",
   "metadata": {
    "raw_mimetype": "text/html"
   },
   "source": [
    "<!-- @Verhavert_et_al_2022 The current article proposes a new adaptive selection algorithm using a previously calibrated reference set. Using a reference set should eliminate the reliability inflation. It is proven that this adaptive selection algorithm is more efficient without reducing the accuracy of the results and without increasing the standard deviation of the assessment results. Akin to BIB designs and more specifically to BTIB designs  -->"
   ],
   "id": "0b5e81e2-80b9-4ec3-a9c8-859c96539d09"
  },
  {
   "cell_type": "raw",
   "metadata": {
    "raw_mimetype": "text/html"
   },
   "source": [
    "<!-- and issues related to the method's experimental design. These issues can affect the method's reliability, validity, and practical applicability. -->"
   ],
   "id": "62c29ac5-5f11-47df-a039-0ee57aed93a2"
  },
  {
   "cell_type": "raw",
   "metadata": {
    "raw_mimetype": "text/html"
   },
   "source": [
    "<!-- @Coertjens_et_al_2017 assess reliability and time investment. We conclude that pairwise comparison requires a similar time investment from evaluators as the criterion list method. We want to note that the outcomes in this study depend heavily on the design. First, the time taken for an assessment is strongly determined by the length of the criteria list used and the length of the texts (Breland, 1983). Not adaptive -->"
   ],
   "id": "afb47c52-9790-402c-b9a2-42bad54edf30"
  },
  {
   "cell_type": "raw",
   "metadata": {
    "raw_mimetype": "text/html"
   },
   "source": [
    "<!-- Although the process of pairwise comparisons is quite easy and fast for raters to apply (@Laming_2004; @Pollitt_2004), even without training, the increase in time investment that is needed for CJ decreases its feasibility in educational practice. -->"
   ],
   "id": "4a8dffcc-4485-4ada-93c3-a6403f5ec80f"
  },
  {
   "cell_type": "raw",
   "metadata": {
    "raw_mimetype": "text/html"
   },
   "source": [
    "<!-- Messick_1989 talks about efficiency and feasibility for application  -->"
   ],
   "id": "4fbdb515-5f08-463b-9cc6-1cefcba723e3"
  },
  {
   "cell_type": "raw",
   "metadata": {
    "raw_mimetype": "text/html"
   },
   "source": [
    "<!-- @Bramley_2008 proposes ranking instead of comparisons -->"
   ],
   "id": "69bf10df-8cbc-4dd9-89ce-4acb61a1e510"
  },
  {
   "cell_type": "raw",
   "metadata": {
    "raw_mimetype": "text/html"
   },
   "source": [
    "<!-- talk about the number of comparisons @Verhavert_et_al_2019, @Crompvoets_et_al_2022, @Pollitt_2004 -->"
   ],
   "id": "ad72c5dd-7948-40e4-ae01-a4627b583d7e"
  },
  {
   "cell_type": "raw",
   "metadata": {
    "raw_mimetype": "text/html"
   },
   "source": [
    "<!-- @Pollitt_2012b concludes that speed is not related to the quality of assessments in pairwise comparisons -->"
   ],
   "id": "83306e87-c865-4263-b674-8bb932a9c65f"
  },
  {
   "cell_type": "raw",
   "metadata": {
    "raw_mimetype": "text/html"
   },
   "source": [
    "<!-- All studies use SSR as a measure of reliability -->"
   ],
   "id": "4140b567-0199-45b6-8b32-7862a81d5fdd"
  },
  {
   "cell_type": "markdown",
   "metadata": {},
   "source": [
    "# 3. Theory"
   ],
   "id": "372ebd7a-1c12-4f6b-94f0-cc76f7a27da9"
  },
  {
   "cell_type": "raw",
   "metadata": {
    "raw_mimetype": "text/html"
   },
   "source": [
    "<!-- recording 1 -->"
   ],
   "id": "441ff265-9afa-47e3-bb76-019906c55d50"
  },
  {
   "cell_type": "raw",
   "metadata": {
    "raw_mimetype": "text/html"
   },
   "source": [
    "<!-- Part 2; 00:14:30 - 00:21:00 -->"
   ],
   "id": "03724b7d-9f57-4094-8f09-15b71f5c91eb"
  },
  {
   "cell_type": "raw",
   "metadata": {
    "raw_mimetype": "text/html"
   },
   "source": [
    "<!-- 3. What is the solution? -->"
   ],
   "id": "5c3b7d58-3aee-47a2-af2f-3f197ca27275"
  },
  {
   "cell_type": "raw",
   "metadata": {
    "raw_mimetype": "text/html"
   },
   "source": [
    "<!-- Notes:  -->"
   ],
   "id": "3abed294-9904-494d-8be3-f571faf2986d"
  },
  {
   "cell_type": "raw",
   "metadata": {
    "raw_mimetype": "text/html"
   },
   "source": [
    "<!-- - There is some gain on considering a more integrated overarching systematic way of looking on what happen in DCJ when people compare two stimuli -->"
   ],
   "id": "6393180d-dea5-483b-af4e-5ee4099ea68b"
  },
  {
   "cell_type": "raw",
   "metadata": {
    "raw_mimetype": "text/html"
   },
   "source": [
    "<!-- - This paper tries to systematically integrate all aspects at play in a single scientific model, we will build the model in a stepwise manner using -->"
   ],
   "id": "893b8a82-f862-41e9-94f4-ee660c774a60"
  },
  {
   "cell_type": "raw",
   "metadata": {
    "raw_mimetype": "text/html"
   },
   "source": [
    "<!-- - we will build a scientific model (more theoretical model) that integrates different aspects of the method that are at play when people use DCJ. -->"
   ],
   "id": "56be2fe5-761b-4b4c-9999-f7d7289ae3b3"
  },
  {
   "cell_type": "markdown",
   "metadata": {},
   "source": [
    "## 3.1 A theoretical model for CJ\n",
    "\n",
    "## 3.2 From theory to statistics"
   ],
   "id": "49383e42-1413-4ce7-8c70-3c2a5dcecb41"
  },
  {
   "cell_type": "raw",
   "metadata": {
    "raw_mimetype": "text/html"
   },
   "source": [
    "<!-- @Pritikin_2020 and @Gray_et_al_2024 bayesian modeling attempts -->"
   ],
   "id": "58c34c3f-5cc5-40ee-9052-cc03976ec383"
  },
  {
   "cell_type": "markdown",
   "metadata": {},
   "source": [
    "# 4. Discussion\n",
    "\n",
    "## 4.1 Findings"
   ],
   "id": "69621a82-e213-4c90-998e-befcd7f4ca49"
  },
  {
   "cell_type": "raw",
   "metadata": {
    "raw_mimetype": "text/html"
   },
   "source": [
    "<!-- Pollitt (2012a) argues that assessors in pairwise comparisons need less training, given intuitive comparison and decision making. However, there is a distinct lack of research on the role of training.  -->"
   ],
   "id": "67a8c3d7-f485-4ba7-8ac4-8e0866beb291"
  },
  {
   "cell_type": "raw",
   "metadata": {
    "raw_mimetype": "text/html"
   },
   "source": [
    "<!-- Due to efficiency of scoring, most of research only colects only one text. This assumes that there is significant homogeneity between text of the same individual, compared to the between individual variability. However, this cannot be known ad-hoc.  -->"
   ],
   "id": "d5aeceaa-b37f-4a7a-b4a1-6b3b1a0b213c"
  },
  {
   "cell_type": "markdown",
   "metadata": {},
   "source": [
    "## 4.2 Limitations and further research\n",
    "\n",
    "# 5. Conclusion\n",
    "\n",
    "\u000c\n",
    "\n",
    "# Declarations\n",
    "\n",
    "**Funding:** The project was founded through the Research Fund of the University of Antwerp (BOF).\n",
    "\n",
    "**Financial interests:** The authors have no relevant financial interest to disclose.\n",
    "\n",
    "**Non-financial interests:** Author XX serve on advisory broad of Company Y but receives no compensation this role.\n",
    "\n",
    "**Ethics approval:** The University of Antwerp Research Ethics Committee has confirmed that no ethical approval is required.\n",
    "\n",
    "**Consent to participate:** Not applicable\n",
    "\n",
    "**Consent for publication:** All authors have read and agreed to the published version of the manuscript.\n",
    "\n",
    "**Availability of data and materials:** No data was utilized in this study.\n",
    "\n",
    "**Code availability:** All the code utilized in this research is available in the digital document located at: <https://jriveraespejo.github.io/paper2_manuscript/>.\n",
    "\n",
    "**AI-assisted technologies in the writing process:** The authors used ChatGPT, an AI language model, during the preparation of this work. They occasionally employed the tool to refine phrasing and optimize wording, ensuring appropriate language use and enhancing the manuscript’s clarity and coherence. The authors take full responsibility for the final content of the publication.\n",
    "\n",
    "**CRediT authorship contribution statement:** *Conceptualization:* S.G., S.DM., T.vD., and J.M.R.E; *Methodology:* S.DM., T.vD., and J.M.R.E; *Software:* J.M.R.E.; *Validation:* J.M.R.E.; *Formal Analysis:* J.M.R.E.; *Investigation:* J.M.R.E; *Resources:* S.G., S.DM., and T.vD.; *Data curation:* J.M.R.E.; *Writing - original draft:* J.M.R.E.; *Writing - review & editing:* S.G., S.DM., and T.vD.; *Visualization:* J.M.R.E.; *Supervision:* S.G. and S.DM.; *Project administration:* S.G. and S.DM.; *Funding acquisition:* S.G. and S.DM."
   ],
   "id": "ae7b4657-85b8-4501-affc-619375b82f5f"
  },
  {
   "cell_type": "raw",
   "metadata": {
    "raw_mimetype": "text/html"
   },
   "source": [
    "<!-- **Acknowledgements:** -->"
   ],
   "id": "b598332f-f192-48f1-8f08-9ca4037b7e97"
  },
  {
   "cell_type": "markdown",
   "metadata": {},
   "source": [
    "\u000c\n",
    "\n",
    "# 6. Appendix\n",
    "\n",
    "## 6.1 Appendix A: Ignoring uncertainty"
   ],
   "id": "175d3714-bb75-4c3d-9f6d-912fcc29dde1"
  },
  {
   "cell_type": "code",
   "execution_count": null,
   "metadata": {},
   "outputs": [],
   "source": [
    "# # simulate units and sub-units\n",
    "# USd = sim_units_trait( Un=10,\n",
    "#                        Us=c(1,1),\n",
    "#                        Ub=c(0,-0.2,0.2),\n",
    "#                        Useed = 45789,\n",
    "#                        Sn=6,\n",
    "#                        Ss=c(0.8,0.8),\n",
    "#                        Sb=c(0,0,0),\n",
    "#                        Sseed = 9478 )\n",
    "# \n",
    "# # simulate judges bias\n",
    "# Jd = sim_judges_bias( Jn=10,\n",
    "#                       Js=c(0.02,0.02),\n",
    "#                       Jseed = 79985 )\n",
    "# \n",
    "# \n",
    "# # simulate full comparison data\n",
    "# d = cm_full( USd=USd$USd,\n",
    "#              Jd=Jd$Jd )\n",
    "# \n",
    "# \n",
    "# # set data in list\n",
    "# dL = list_data( d )\n",
    "# str(dL)"
   ],
   "id": "abffeff4-0cec-4be6-852a-d2fa15a9e22e"
  },
  {
   "cell_type": "markdown",
   "metadata": {},
   "source": [
    "## 6.2 Appendix B: The five cases of Thurstone"
   ],
   "id": "36c3846c-10a7-4100-9f4a-f3c269e463d4"
  },
  {
   "cell_type": "raw",
   "metadata": {
    "raw_mimetype": "text/html"
   },
   "source": [
    "<!-- Thurstone's comparative judgment (CJ) theory [@Thurstone_1927] is composed of two key elements: the discriminal process and the law of comparative judgment.   -->"
   ],
   "id": "e70b5bfa-ebe5-475c-92a9-70e54c1031a5"
  },
  {
   "cell_type": "raw",
   "metadata": {
    "raw_mimetype": "text/html"
   },
   "source": [
    "<!-- In a CJ study evaluating text quality quality of written texts -->"
   ],
   "id": "3d65ffeb-f3f5-4179-9ead-76c19ab80d4e"
  },
  {
   "cell_type": "markdown",
   "metadata": {},
   "source": [
    "\u000c\n",
    "\n",
    "# References\n",
    "\n",
    "Andrich, D. 1978. “Relationships Between the Thurstone and Rasch Approaches to Item Scaling.” *Applied Psychological Measurement* 2 (3): 451–62. <https://doi.org/10.1177/014662167800200319>.\n",
    "\n",
    "Bartholomew, S., L. Nadelson, W. Goodridge, and E. Reeve. 2018. “Adaptive Comparative Judgment as a Tool for Assessing Open-Ended Design Problems and Model Eliciting Activities.” *Educational Assessment* 23 (2): 85–101. <https://doi.org/10.1080/10627197.2018.1444986>.\n",
    "\n",
    "Bartholomew, S., and P. Williams. 2020. “STEM Skill Assessment: An Application of Adaptive Comparative Judgment.” In *Integrated Approaches to STEM Education. Advances in STEM Education*, edited by J. Anderson and Y. Li, 331–49. Springer. <https://doi.org/10.1007/978-3-030-52229-2_18>.\n",
    "\n",
    "Boonen, N., H. Kloots, and S. Gillis. 2020. “Rating the Overall Speech Quality of Hearing-Impaired Children by Means of Comparative Judgements.” *Journal of Communication Disorders* 83: 1675–87. <https://doi.org/10.1016/j.jcomdis.2019.105969>.\n",
    "\n",
    "Bouwer, R., M. Lesterhuis, F. De Smedt, H. Van Keer, and S. De Maeyer. 2023. “Comparative Approaches to the Assessment of Writing: Reliability and Validity of Benchmark Rating and Comparative Judgement.” *Journal of Writing Research* 15 (3): 497–518. <https://doi.org/10.17239/jowr-2024.15.03.03>.\n",
    "\n",
    "Bradley, R., and M. Terry. 1952. “Rank Analysis of Incomplete Block Designs: I. The Method of Paired Comparisons.” *Biometrika* 39 (3-4): 324–45. <https://doi.org/10.2307/2334029>.\n",
    "\n",
    "Bramley, T. 2008. “Paired Comparison Methods.” In *Techniques for Monitoring the Comparability of Examination Standards*, edited by P. Newton, J. Baird, H. Goldsteing, H. Patrick, and P. Tymms, 246--300. GOV.UK. <https://www.gov.uk/government/publications/techniques-for-monitoring-the-comparability-of-examination-standards>.\n",
    "\n",
    "Bramley, T., and S. Vitello. 2019. “The Effect of Adaptivity on the Reliability Coefficient in Adaptive Comparative Judgement.” *Assessment in Education: Principles, Policy and Practice* 71 (9): 1–25. <https://doi.org/10.1080/0969594X.2017.1418734>.\n",
    "\n",
    "Coertjens, L., M Lesterhuis, S. Verhavert, R. Van Gasse, and S. De Maeyer. 2017. “Teksten Beoordelen Met Criterialijsten of via Paarsgewijze Vergelijking: Een Afweging van Betrouwbaarheid En Tijdsinvestering.” *Pedagogische Studien* 94: 283–303. <https://repository.uantwerpen.be/docman/irua/e71ea9/147930.pdf>.\n",
    "\n",
    "Crompvoets, Elise A. V., Anton A. Béguin, and Klaas Sijtsma. 2022. “On the Bias and Stability of the Results of Comparative Judgment.” *Frontiers in Education* 6. <https://doi.org/10.3389/feduc.2021.788202>.\n",
    "\n",
    "de Ayala, R. 2009. *[The Theory and Practice of Item Response Theory]()*. Methodology in the Social Sciences. The Guilford Press.\n",
    "\n",
    "Everitt, B., and A. Skrondal. 2010. *[The Cambridge Dictionary of Statistics]()*. Cambridge University Press.\n",
    "\n",
    "Fox, J. P. 2010. *[Bayesian Item Response Modeling, Theory and Applications]()*. Statistics for Social and Behavioral Sciences. Springer.\n",
    "\n",
    "Gijsen, M., T. van Daal, Marije Lesterhuis, David Gijbels, and Sven De Maeyer. 2021. “The Complexity of Comparative Judgments in Assessing Argumentative Writing: An Eye Tracking Study.” *Frontiers in Education* 5. <https://doi.org/10.3389/feduc.2020.582800>.\n",
    "\n",
    "Goossens, M., and S. De Maeyer. 2018. “How to Obtain Efficient High Reliabilities in Assessing Texts: Rubrics Vs Comparative Judgement.” In *Technology Enhanced Assessment*, edited by E. Ras and A. Guerrero Roldán, 13–25. Springer International Publishing. <https://doi.org/10.1007/978-3-319-97807-9_2>.\n",
    "\n",
    "Hoyle, R. (eds.). 2023. *[Handbook of Structural Equation Modeling]()*. Guilford Press.\n",
    "\n",
    "Jones, I. 2015. “The Problem of Assessing Problem Solving: Can Comparative Judgement Help?” *Educational Studies in Mathematics* 89 (3): 337–55. <https://doi.org/10.1007/s10649-015-9607-1>.\n",
    "\n",
    "Jones, I., M. Bisson, C. Gilmore, and M. Inglis. 2019. “Measuring Conceptual Understanding in Randomised Controlled Trials: Can Comparative Judgement Help?” *British Educational Research Journal* 45 (3): 662–80. <https://doi.org/10.1002/berj.3519>.\n",
    "\n",
    "Kline, R. 2023. *[Principles and Practice of Structural Equation Modeling]()*. Methodology in the Social Sciences. Guilford Press.\n",
    "\n",
    "Laming, D. 2004. “Marking University Examinations: Some Lessons from Psychophysics.” *Psychology Learning & Teaching* 3 (2): 89–96. <https://doi.org/10.2304/plat.2003.3.2.89>.\n",
    "\n",
    "Lesterhuis, M. 2018. “The Validity of Comparative Judgement for Assessing Text Quality: An Assessor’s Perspective.” PhD thesis, University of Antwerp.\n",
    "\n",
    "Luce, R. 1959. “On the Possible Psychophysical Laws.” *The Psychologcal Review* 66 (2): 482–99. <https://doi.org/10.1037/h0043178>.\n",
    "\n",
    "Marshall, N., K Shaw, J. Hunter, and I. Jones. 2020. “Assessment by Comparative Judgement: An Application to Secondary Statistics and English in New Zealand.” *New Zealand Journal of Educational Studies* 55: 49–71. <https://doi.org/10.1007/s40841-020-00163-3>.\n",
    "\n",
    "McElreath, R. 2020. *[Statistical Rethinking: A Bayesian Course with Examples in r and STAN]()*. Chapman; Hall/CRC.\n",
    "\n",
    "Mikhailiuk, A., C. Wilmot, M. Perez-Ortiz, D. Yue, and R. Mantiuk. 2021. “Active Sampling for Pairwise Comparisons via Approximate Message Passing and Information Gain Maximization.” In *2020 25th International Conference on Pattern Recognition (ICPR)*, 2559–66. <https://doi.org/10.1109/ICPR48806.2021.9412676>.\n",
    "\n",
    "Pollitt, A. 2004. “Let’s Stop Marking Exams.” In *Proceedings of the IAEA Conference*. Philadelphia: University of Cambridge Local Examinations Syndicate. <https://www.cambridgeassessment.org.uk/images/109719-let-s-stop-marking-exams.pdf>.\n",
    "\n",
    "———. 2012a. “Comparative Judgement for Assessment.” *International Journal of Technology and Design Education* 22 (2): 157--170. <https://doi.org/10.1007/s10798-011-9189-x>.\n",
    "\n",
    "———. 2012b. “The Method of Adaptive Comparative Judgement.” *Assessment in Education: Principles, Policy and Practice* 19 (3): 281--300. <https://doi.org/10.1080/0969594X.2012.665354>.\n",
    "\n",
    "Pollitt, A., and G. Elliott. 2003. “Finding a Proper Role for Human Judgement in the Examination System.” University of Cambridge Local Examinations Syndicate. <https://www.cambridgeassessment.org.uk/Images/109707-monitoring-and-investigating-comparability-a-proper-role-for-human-judgement.pdf>.\n",
    "\n",
    "Thurstone, L. 1927. “A Law of Comparative Judgment.” *Psychological Review* 34 (4): 482–99. <https://doi.org/10.1037/h0070288>.\n",
    "\n",
    "van Daal, T., M. Lesterhuis, L. Coertjens, V. Donche, and S. De Maeyer. 2016. “Validity of Comparative Judgement to Assess Academic Writing: Examining Implications of Its Holistic Character and Building on a Shared Consensus.” *Assessment in Education: Principles, Policy & Practice* 26 (1): 59–74. <https://doi.org/10.1080/0969594X.2016.1253542>.\n",
    "\n",
    "van Daal, T., M. Lesterhuis, L. Coertjens, MT. van de Kamp, V. Donche, and Sven De Maeyer. 2017. “The Complexity of Assessing Student Work Using Comparative Judgment: The Moderating Role of Decision Accuracy.” *Frontiers in Education* 2. <https://doi.org/10.3389/feduc.2017.00044>.\n",
    "\n",
    "van der Linden, W., ed. 2017. *[Handbook of Item Response Theory]()*. Vol. 1–3. Statistics in the Social and Behavioral Sciences Series. CRC Press.\n",
    "\n",
    "Verhavert, San, Antony Furlong, and Renske Bouwer. 2022. “The Accuracy and Efficiency of a Reference-Based Adaptive Selection Algorithm for Comparative Judgment.” *Frontiers in Education* 6. <https://doi.org/10.3389/feduc.2021.785919>.\n",
    "\n",
    "Verhavert, S., R. Bouwer, V Donche, and S. De Maeyer. 2019. “A Meta-Analysis on the Reliability of Comparative Judgement.” *Assessment in Education: Principles, Policy and Practice* 26 (5): 541–62. <https://doi.org/10.1080/0969594X.2019.1602027>.\n",
    "\n",
    "Whitehouse, C. 2012. “Testing the Validity of Judgements about Geography Essays Using the Adaptive Comparative Judgement Method.” Centre for Education Research & Policy. <https://filestore.aqa.org.uk/content/research/CERP_RP_CW_24102012_0.pdf?download=1>."
   ],
   "id": "164d59d2-9657-43a5-a1db-8caa9f77c069"
  }
 ],
 "nbformat": 4,
 "nbformat_minor": 5,
 "metadata": {}
}
